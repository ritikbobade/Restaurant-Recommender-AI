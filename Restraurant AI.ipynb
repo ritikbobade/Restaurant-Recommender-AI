{
 "cells": [
  {
   "cell_type": "markdown",
   "id": "b71385c8",
   "metadata": {},
   "source": [
    "## Project Overview\n",
    "Finding the perfect restaurant can be challenging due to the vast number of choices available. To help users make informed decisions, we have developed Restaurant Recommender AI, a chatbot designed to assist users in finding the ideal restaurant based on their specific needs, such as cuisine preferences, dietary restrictions, location, and user reviews. This solution leverages both large language models (LLMs) and rule-based functions to provide personalized recommendations.\n",
    "\n",
    "### Objective\n",
    "Build a chatbot that accurately parses a dataset containing restaurant information and provides tailored recommendations based on user requirements.\n",
    "\n",
    "### Problem Statement\n",
    "Given a dataset with details about restaurants (cuisine type, dietary options, location, user reviews, etc.), develop a chatbot that can interpret this data and recommend the best restaurants according to user preferences."
   ]
  },
  {
   "cell_type": "code",
   "execution_count": 1,
   "id": "5e4f34f6",
   "metadata": {},
   "outputs": [],
   "source": [
    "# Install OpenAI library\n",
    "!pip install -U -q openai tenacity"
   ]
  },
  {
   "cell_type": "code",
   "execution_count": 2,
   "id": "96717910-0af4-4300-8ff6-5e159e10ad63",
   "metadata": {},
   "outputs": [
    {
     "data": {
      "text/html": [
       "<div>\n",
       "<style scoped>\n",
       "    .dataframe tbody tr th:only-of-type {\n",
       "        vertical-align: middle;\n",
       "    }\n",
       "\n",
       "    .dataframe tbody tr th {\n",
       "        vertical-align: top;\n",
       "    }\n",
       "\n",
       "    .dataframe thead th {\n",
       "        text-align: right;\n",
       "    }\n",
       "</style>\n",
       "<table border=\"1\" class=\"dataframe\">\n",
       "  <thead>\n",
       "    <tr style=\"text-align: right;\">\n",
       "      <th></th>\n",
       "      <th>Restaurant ID</th>\n",
       "      <th>Restaurant Name</th>\n",
       "      <th>Country Code</th>\n",
       "      <th>City</th>\n",
       "      <th>Address</th>\n",
       "      <th>Locality</th>\n",
       "      <th>Locality Verbose</th>\n",
       "      <th>Longitude</th>\n",
       "      <th>Latitude</th>\n",
       "      <th>Cuisines</th>\n",
       "      <th>...</th>\n",
       "      <th>Currency</th>\n",
       "      <th>Has Table booking</th>\n",
       "      <th>Has Online delivery</th>\n",
       "      <th>Is delivering now</th>\n",
       "      <th>Switch to order menu</th>\n",
       "      <th>Price range</th>\n",
       "      <th>Aggregate rating</th>\n",
       "      <th>Rating color</th>\n",
       "      <th>Rating text</th>\n",
       "      <th>Votes</th>\n",
       "    </tr>\n",
       "  </thead>\n",
       "  <tbody>\n",
       "    <tr>\n",
       "      <th>0</th>\n",
       "      <td>6317637</td>\n",
       "      <td>Le Petit Souffle</td>\n",
       "      <td>162</td>\n",
       "      <td>Makati City</td>\n",
       "      <td>Third Floor, Century City Mall, Kalayaan Avenu...</td>\n",
       "      <td>Century City Mall, Poblacion, Makati City</td>\n",
       "      <td>Century City Mall, Poblacion, Makati City, Mak...</td>\n",
       "      <td>121.027535</td>\n",
       "      <td>14.565443</td>\n",
       "      <td>French, Japanese, Desserts</td>\n",
       "      <td>...</td>\n",
       "      <td>Botswana Pula(P)</td>\n",
       "      <td>Yes</td>\n",
       "      <td>No</td>\n",
       "      <td>No</td>\n",
       "      <td>No</td>\n",
       "      <td>3</td>\n",
       "      <td>4.8</td>\n",
       "      <td>Dark Green</td>\n",
       "      <td>Excellent</td>\n",
       "      <td>314</td>\n",
       "    </tr>\n",
       "    <tr>\n",
       "      <th>1</th>\n",
       "      <td>6304287</td>\n",
       "      <td>Izakaya Kikufuji</td>\n",
       "      <td>162</td>\n",
       "      <td>Makati City</td>\n",
       "      <td>Little Tokyo, 2277 Chino Roces Avenue, Legaspi...</td>\n",
       "      <td>Little Tokyo, Legaspi Village, Makati City</td>\n",
       "      <td>Little Tokyo, Legaspi Village, Makati City, Ma...</td>\n",
       "      <td>121.014101</td>\n",
       "      <td>14.553708</td>\n",
       "      <td>Japanese</td>\n",
       "      <td>...</td>\n",
       "      <td>Botswana Pula(P)</td>\n",
       "      <td>Yes</td>\n",
       "      <td>No</td>\n",
       "      <td>No</td>\n",
       "      <td>No</td>\n",
       "      <td>3</td>\n",
       "      <td>4.5</td>\n",
       "      <td>Dark Green</td>\n",
       "      <td>Excellent</td>\n",
       "      <td>591</td>\n",
       "    </tr>\n",
       "    <tr>\n",
       "      <th>2</th>\n",
       "      <td>6300002</td>\n",
       "      <td>Heat - Edsa Shangri-La</td>\n",
       "      <td>162</td>\n",
       "      <td>Mandaluyong City</td>\n",
       "      <td>Edsa Shangri-La, 1 Garden Way, Ortigas, Mandal...</td>\n",
       "      <td>Edsa Shangri-La, Ortigas, Mandaluyong City</td>\n",
       "      <td>Edsa Shangri-La, Ortigas, Mandaluyong City, Ma...</td>\n",
       "      <td>121.056831</td>\n",
       "      <td>14.581404</td>\n",
       "      <td>Seafood, Asian, Filipino, Indian</td>\n",
       "      <td>...</td>\n",
       "      <td>Botswana Pula(P)</td>\n",
       "      <td>Yes</td>\n",
       "      <td>No</td>\n",
       "      <td>No</td>\n",
       "      <td>No</td>\n",
       "      <td>4</td>\n",
       "      <td>4.4</td>\n",
       "      <td>Green</td>\n",
       "      <td>Very Good</td>\n",
       "      <td>270</td>\n",
       "    </tr>\n",
       "    <tr>\n",
       "      <th>3</th>\n",
       "      <td>6318506</td>\n",
       "      <td>Ooma</td>\n",
       "      <td>162</td>\n",
       "      <td>Mandaluyong City</td>\n",
       "      <td>Third Floor, Mega Fashion Hall, SM Megamall, O...</td>\n",
       "      <td>SM Megamall, Ortigas, Mandaluyong City</td>\n",
       "      <td>SM Megamall, Ortigas, Mandaluyong City, Mandal...</td>\n",
       "      <td>121.056475</td>\n",
       "      <td>14.585318</td>\n",
       "      <td>Japanese, Sushi</td>\n",
       "      <td>...</td>\n",
       "      <td>Botswana Pula(P)</td>\n",
       "      <td>No</td>\n",
       "      <td>No</td>\n",
       "      <td>No</td>\n",
       "      <td>No</td>\n",
       "      <td>4</td>\n",
       "      <td>4.9</td>\n",
       "      <td>Dark Green</td>\n",
       "      <td>Excellent</td>\n",
       "      <td>365</td>\n",
       "    </tr>\n",
       "    <tr>\n",
       "      <th>4</th>\n",
       "      <td>6314302</td>\n",
       "      <td>Sambo Kojin</td>\n",
       "      <td>162</td>\n",
       "      <td>Mandaluyong City</td>\n",
       "      <td>Third Floor, Mega Atrium, SM Megamall, Ortigas...</td>\n",
       "      <td>SM Megamall, Ortigas, Mandaluyong City</td>\n",
       "      <td>SM Megamall, Ortigas, Mandaluyong City, Mandal...</td>\n",
       "      <td>121.057508</td>\n",
       "      <td>14.584450</td>\n",
       "      <td>Japanese, Korean</td>\n",
       "      <td>...</td>\n",
       "      <td>Botswana Pula(P)</td>\n",
       "      <td>Yes</td>\n",
       "      <td>No</td>\n",
       "      <td>No</td>\n",
       "      <td>No</td>\n",
       "      <td>4</td>\n",
       "      <td>4.8</td>\n",
       "      <td>Dark Green</td>\n",
       "      <td>Excellent</td>\n",
       "      <td>229</td>\n",
       "    </tr>\n",
       "    <tr>\n",
       "      <th>...</th>\n",
       "      <td>...</td>\n",
       "      <td>...</td>\n",
       "      <td>...</td>\n",
       "      <td>...</td>\n",
       "      <td>...</td>\n",
       "      <td>...</td>\n",
       "      <td>...</td>\n",
       "      <td>...</td>\n",
       "      <td>...</td>\n",
       "      <td>...</td>\n",
       "      <td>...</td>\n",
       "      <td>...</td>\n",
       "      <td>...</td>\n",
       "      <td>...</td>\n",
       "      <td>...</td>\n",
       "      <td>...</td>\n",
       "      <td>...</td>\n",
       "      <td>...</td>\n",
       "      <td>...</td>\n",
       "      <td>...</td>\n",
       "      <td>...</td>\n",
       "    </tr>\n",
       "    <tr>\n",
       "      <th>9546</th>\n",
       "      <td>5915730</td>\n",
       "      <td>Naml۱ Gurme</td>\n",
       "      <td>208</td>\n",
       "      <td>��stanbul</td>\n",
       "      <td>Kemanke�� Karamustafa Pa��a Mahallesi, R۱ht۱m ...</td>\n",
       "      <td>Karak�_y</td>\n",
       "      <td>Karak�_y, ��stanbul</td>\n",
       "      <td>28.977392</td>\n",
       "      <td>41.022793</td>\n",
       "      <td>Turkish</td>\n",
       "      <td>...</td>\n",
       "      <td>Turkish Lira(TL)</td>\n",
       "      <td>No</td>\n",
       "      <td>No</td>\n",
       "      <td>No</td>\n",
       "      <td>No</td>\n",
       "      <td>3</td>\n",
       "      <td>4.1</td>\n",
       "      <td>Green</td>\n",
       "      <td>Very Good</td>\n",
       "      <td>788</td>\n",
       "    </tr>\n",
       "    <tr>\n",
       "      <th>9547</th>\n",
       "      <td>5908749</td>\n",
       "      <td>Ceviz A��ac۱</td>\n",
       "      <td>208</td>\n",
       "      <td>��stanbul</td>\n",
       "      <td>Ko��uyolu Mahallesi, Muhittin ��st�_nda�� Cadd...</td>\n",
       "      <td>Ko��uyolu</td>\n",
       "      <td>Ko��uyolu, ��stanbul</td>\n",
       "      <td>29.041297</td>\n",
       "      <td>41.009847</td>\n",
       "      <td>World Cuisine, Patisserie, Cafe</td>\n",
       "      <td>...</td>\n",
       "      <td>Turkish Lira(TL)</td>\n",
       "      <td>No</td>\n",
       "      <td>No</td>\n",
       "      <td>No</td>\n",
       "      <td>No</td>\n",
       "      <td>3</td>\n",
       "      <td>4.2</td>\n",
       "      <td>Green</td>\n",
       "      <td>Very Good</td>\n",
       "      <td>1034</td>\n",
       "    </tr>\n",
       "    <tr>\n",
       "      <th>9548</th>\n",
       "      <td>5915807</td>\n",
       "      <td>Huqqa</td>\n",
       "      <td>208</td>\n",
       "      <td>��stanbul</td>\n",
       "      <td>Kuru�_e��me Mahallesi, Muallim Naci Caddesi, N...</td>\n",
       "      <td>Kuru�_e��me</td>\n",
       "      <td>Kuru�_e��me, ��stanbul</td>\n",
       "      <td>29.034640</td>\n",
       "      <td>41.055817</td>\n",
       "      <td>Italian, World Cuisine</td>\n",
       "      <td>...</td>\n",
       "      <td>Turkish Lira(TL)</td>\n",
       "      <td>No</td>\n",
       "      <td>No</td>\n",
       "      <td>No</td>\n",
       "      <td>No</td>\n",
       "      <td>4</td>\n",
       "      <td>3.7</td>\n",
       "      <td>Yellow</td>\n",
       "      <td>Good</td>\n",
       "      <td>661</td>\n",
       "    </tr>\n",
       "    <tr>\n",
       "      <th>9549</th>\n",
       "      <td>5916112</td>\n",
       "      <td>A���k Kahve</td>\n",
       "      <td>208</td>\n",
       "      <td>��stanbul</td>\n",
       "      <td>Kuru�_e��me Mahallesi, Muallim Naci Caddesi, N...</td>\n",
       "      <td>Kuru�_e��me</td>\n",
       "      <td>Kuru�_e��me, ��stanbul</td>\n",
       "      <td>29.036019</td>\n",
       "      <td>41.057979</td>\n",
       "      <td>Restaurant Cafe</td>\n",
       "      <td>...</td>\n",
       "      <td>Turkish Lira(TL)</td>\n",
       "      <td>No</td>\n",
       "      <td>No</td>\n",
       "      <td>No</td>\n",
       "      <td>No</td>\n",
       "      <td>4</td>\n",
       "      <td>4.0</td>\n",
       "      <td>Green</td>\n",
       "      <td>Very Good</td>\n",
       "      <td>901</td>\n",
       "    </tr>\n",
       "    <tr>\n",
       "      <th>9550</th>\n",
       "      <td>5927402</td>\n",
       "      <td>Walter's Coffee Roastery</td>\n",
       "      <td>208</td>\n",
       "      <td>��stanbul</td>\n",
       "      <td>Cafea��a Mahallesi, Bademalt۱ Sokak, No 21/B, ...</td>\n",
       "      <td>Moda</td>\n",
       "      <td>Moda, ��stanbul</td>\n",
       "      <td>29.026016</td>\n",
       "      <td>40.984776</td>\n",
       "      <td>Cafe</td>\n",
       "      <td>...</td>\n",
       "      <td>Turkish Lira(TL)</td>\n",
       "      <td>No</td>\n",
       "      <td>No</td>\n",
       "      <td>No</td>\n",
       "      <td>No</td>\n",
       "      <td>2</td>\n",
       "      <td>4.0</td>\n",
       "      <td>Green</td>\n",
       "      <td>Very Good</td>\n",
       "      <td>591</td>\n",
       "    </tr>\n",
       "  </tbody>\n",
       "</table>\n",
       "<p>9551 rows × 21 columns</p>\n",
       "</div>"
      ],
      "text/plain": [
       "      Restaurant ID           Restaurant Name  Country Code              City  \\\n",
       "0           6317637          Le Petit Souffle           162       Makati City   \n",
       "1           6304287          Izakaya Kikufuji           162       Makati City   \n",
       "2           6300002    Heat - Edsa Shangri-La           162  Mandaluyong City   \n",
       "3           6318506                      Ooma           162  Mandaluyong City   \n",
       "4           6314302               Sambo Kojin           162  Mandaluyong City   \n",
       "...             ...                       ...           ...               ...   \n",
       "9546        5915730               Naml۱ Gurme           208         ��stanbul   \n",
       "9547        5908749              Ceviz A��ac۱           208         ��stanbul   \n",
       "9548        5915807                     Huqqa           208         ��stanbul   \n",
       "9549        5916112               A���k Kahve           208         ��stanbul   \n",
       "9550        5927402  Walter's Coffee Roastery           208         ��stanbul   \n",
       "\n",
       "                                                Address  \\\n",
       "0     Third Floor, Century City Mall, Kalayaan Avenu...   \n",
       "1     Little Tokyo, 2277 Chino Roces Avenue, Legaspi...   \n",
       "2     Edsa Shangri-La, 1 Garden Way, Ortigas, Mandal...   \n",
       "3     Third Floor, Mega Fashion Hall, SM Megamall, O...   \n",
       "4     Third Floor, Mega Atrium, SM Megamall, Ortigas...   \n",
       "...                                                 ...   \n",
       "9546  Kemanke�� Karamustafa Pa��a Mahallesi, R۱ht۱m ...   \n",
       "9547  Ko��uyolu Mahallesi, Muhittin ��st�_nda�� Cadd...   \n",
       "9548  Kuru�_e��me Mahallesi, Muallim Naci Caddesi, N...   \n",
       "9549  Kuru�_e��me Mahallesi, Muallim Naci Caddesi, N...   \n",
       "9550  Cafea��a Mahallesi, Bademalt۱ Sokak, No 21/B, ...   \n",
       "\n",
       "                                        Locality  \\\n",
       "0      Century City Mall, Poblacion, Makati City   \n",
       "1     Little Tokyo, Legaspi Village, Makati City   \n",
       "2     Edsa Shangri-La, Ortigas, Mandaluyong City   \n",
       "3         SM Megamall, Ortigas, Mandaluyong City   \n",
       "4         SM Megamall, Ortigas, Mandaluyong City   \n",
       "...                                          ...   \n",
       "9546                                    Karak�_y   \n",
       "9547                                   Ko��uyolu   \n",
       "9548                                 Kuru�_e��me   \n",
       "9549                                 Kuru�_e��me   \n",
       "9550                                        Moda   \n",
       "\n",
       "                                       Locality Verbose   Longitude   Latitude  \\\n",
       "0     Century City Mall, Poblacion, Makati City, Mak...  121.027535  14.565443   \n",
       "1     Little Tokyo, Legaspi Village, Makati City, Ma...  121.014101  14.553708   \n",
       "2     Edsa Shangri-La, Ortigas, Mandaluyong City, Ma...  121.056831  14.581404   \n",
       "3     SM Megamall, Ortigas, Mandaluyong City, Mandal...  121.056475  14.585318   \n",
       "4     SM Megamall, Ortigas, Mandaluyong City, Mandal...  121.057508  14.584450   \n",
       "...                                                 ...         ...        ...   \n",
       "9546                                Karak�_y, ��stanbul   28.977392  41.022793   \n",
       "9547                               Ko��uyolu, ��stanbul   29.041297  41.009847   \n",
       "9548                             Kuru�_e��me, ��stanbul   29.034640  41.055817   \n",
       "9549                             Kuru�_e��me, ��stanbul   29.036019  41.057979   \n",
       "9550                                    Moda, ��stanbul   29.026016  40.984776   \n",
       "\n",
       "                              Cuisines  ...          Currency Has Table booking  \\\n",
       "0           French, Japanese, Desserts  ...  Botswana Pula(P)               Yes   \n",
       "1                             Japanese  ...  Botswana Pula(P)               Yes   \n",
       "2     Seafood, Asian, Filipino, Indian  ...  Botswana Pula(P)               Yes   \n",
       "3                      Japanese, Sushi  ...  Botswana Pula(P)                No   \n",
       "4                     Japanese, Korean  ...  Botswana Pula(P)               Yes   \n",
       "...                                ...  ...               ...               ...   \n",
       "9546                           Turkish  ...  Turkish Lira(TL)                No   \n",
       "9547   World Cuisine, Patisserie, Cafe  ...  Turkish Lira(TL)                No   \n",
       "9548            Italian, World Cuisine  ...  Turkish Lira(TL)                No   \n",
       "9549                   Restaurant Cafe  ...  Turkish Lira(TL)                No   \n",
       "9550                              Cafe  ...  Turkish Lira(TL)                No   \n",
       "\n",
       "     Has Online delivery Is delivering now Switch to order menu Price range  Aggregate rating  \\\n",
       "0                     No                No                   No           3               4.8   \n",
       "1                     No                No                   No           3               4.5   \n",
       "2                     No                No                   No           4               4.4   \n",
       "3                     No                No                   No           4               4.9   \n",
       "4                     No                No                   No           4               4.8   \n",
       "...                  ...               ...                  ...         ...               ...   \n",
       "9546                  No                No                   No           3               4.1   \n",
       "9547                  No                No                   No           3               4.2   \n",
       "9548                  No                No                   No           4               3.7   \n",
       "9549                  No                No                   No           4               4.0   \n",
       "9550                  No                No                   No           2               4.0   \n",
       "\n",
       "      Rating color Rating text Votes  \n",
       "0       Dark Green   Excellent   314  \n",
       "1       Dark Green   Excellent   591  \n",
       "2            Green   Very Good   270  \n",
       "3       Dark Green   Excellent   365  \n",
       "4       Dark Green   Excellent   229  \n",
       "...            ...         ...   ...  \n",
       "9546         Green   Very Good   788  \n",
       "9547         Green   Very Good  1034  \n",
       "9548        Yellow        Good   661  \n",
       "9549         Green   Very Good   901  \n",
       "9550         Green   Very Good   591  \n",
       "\n",
       "[9551 rows x 21 columns]"
      ]
     },
     "execution_count": 2,
     "metadata": {},
     "output_type": "execute_result"
    }
   ],
   "source": [
    "# Import the libraries\n",
    "import pandas as pd\n",
    "from IPython.display import display, HTML\n",
    "# Set the display width to control the output width\n",
    "pd.set_option('display.width', 100)\n",
    "# Read the dataset and read the restraurant Dataset\n",
    "df = pd.read_csv('restraurant.csv')\n",
    "df"
   ]
  },
  {
   "cell_type": "markdown",
   "id": "9381d815-92b9-48c0-b3f6-e04382319cc7",
   "metadata": {},
   "source": [
    "Approach:\n",
    "- **Conversation and Information Gathering**: The chatbot will utilize language models to understand and generate natural responses. Through a conversational flow, it will ask relevant questions to gather information about the user's requirements.\n",
    "- **Information Extraction**: Once the essential information is collected, rule-based functions come into play, extracting top restraurants that best matches the user's needs.\n",
    "- **Personalized Recommendation**: Leveraging this extracted information, the chatbot engages in further dialogue with the user, efficiently addressing their queries and aiding them in finding the perfect restraurant solution."
   ]
  },
  {
   "cell_type": "markdown",
   "id": "4bbecf8f-d6a3-429e-a81c-0ab22b42c083",
   "metadata": {},
   "source": [
    "**Part 2: System Design**\n",
    "Dataset\n",
    "We have a dataset restraurant.csv where each row describes the features of a single restraurant and also has a small description at the end. The chatbot that we build will leverage LLMs to parse this Description column and provide recommendations\n",
    "\n",
    "Building the Chatbot\n",
    "Now let's go ahead and understand the system design for the chatbot.\n",
    "\n",
    "Chatbot_sys_design.png\n",
    "\n",
    "|Stage 1\n",
    "\n",
    "- Intent Clarity Layer\n",
    "- Intent Confirmation Layer\n",
    "\n",
    "Stage 2\n",
    "\n",
    "- Product Mapping Layer\n",
    "- Product Information Extraction Layer\n",
    "\n",
    "Stage 3\n",
    "\n",
    "- Product Recommendation Layer\n",
    "- Major functions behind the Chatbot\n",
    "\n",
    "Let's now look at a brief overview of the major functions that form the chatbot. We'll take a deep dive later\n",
    "\n",
    "- initialize_conversation(): This initializes the variable conversation with the system message.\n",
    "- get_chat_completions(): This takes the ongoing conversation as the input and returns the response by the assistant\n",
    "- moderation_check(): This checks if the user's or the assistant's message is inappropriate. If any of these is inappropriate, it ends the conversation.\n",
    "- intent_confirmation_layer(): This function takes the assistant's response and evaluates if the chatbot has captured the user's profile clearly. Specifically, this checks if the following properties for the user has been captured or not City, Pricee range, Aggregrate rating, Has Table booking, Cuisines speed, Budget\n",
    "- dictionary_present(): This function checks if the final understanding of user's profile is returned by the chatbot as a python dictionary or not. If there is a dictionary, it extracts the information as a Python dictionary.\n",
    "- get_res_reccomodation(): This function compares the user's profile with the different restraurants and come back with the top 3 recommendations.\n",
    "- initialize_conv_reco(): Initializes the recommendations conversation\n",
    "In the next sections, we will look at how to write the code for the above functions.\n"
   ]
  },
  {
   "cell_type": "code",
   "execution_count": 3,
   "id": "dd1f11be-d9fd-464b-9265-ffc53296c8b6",
   "metadata": {},
   "outputs": [],
   "source": [
    "# Import the libraries\n",
    "import os, json, ast\n",
    "import openai\n",
    "from tenacity import retry, wait_random_exponential, stop_after_attempt"
   ]
  },
  {
   "cell_type": "code",
   "execution_count": 4,
   "id": "5633dc31-7679-4ef7-bada-df0eaca5f64f",
   "metadata": {},
   "outputs": [],
   "source": [
    "# Read the OpenAI API key\n",
    "openai.api_key = open(\"OPENAI_API_Key.txt\", \"r\").read().strip()\n",
    "os.environ['OPENAI_API_KEY'] = openai.api_key"
   ]
  },
  {
   "cell_type": "code",
   "execution_count": 5,
   "id": "ee905287-c794-4ca7-8152-dab756dd49c4",
   "metadata": {},
   "outputs": [],
   "source": [
    "def initialize_conversation():\n",
    "    '''\n",
    "    Returns a list [{\"role\": \"system\", \"content\": system_message}]\n",
    "    '''\n",
    "\n",
    "    delimiter = \"####\"\n",
    "\n",
    "    example_user_dict = {'City': \"New York\",\n",
    "                        'Price range':\"6\",\n",
    "                        'Aggregate rating': \"low\",\n",
    "                        'Votes': \"high\",\n",
    "                        'Has Table booking': \"Yes\",\n",
    "                        'Cuisines': \"Indian\"}\n",
    "\n",
    "    example_user_req = {'City': \"_\",\n",
    "                        'Price range': \"_\",\n",
    "                        'Aggregate rating': \"_\",\n",
    "                        'Votes': \"_\",\n",
    "                        'Has Table booking': \"_\",\n",
    "                        'Cuisines': \"_\"}\n",
    "\n",
    "    system_message = f\"\"\"\n",
    "    You are an intelligent restraurant reccomender and your goal is to find the best restraurant for user.\n",
    "    You need to ask relevant questions and understand the user profile by analysing the user's responses.\n",
    "    You final objective is to fill the values for the different keys ('City','Price range','Aggregate rating','Votes','Has Table booking','Cuisines') in the python dictionary and be confident of the values.\n",
    "    These key value pairs define the user's profile.\n",
    "    The python dictionary looks like this\n",
    "    {{'City': 'values','Price range':'values', 'Aggregate rating','Votes': 'values','Has Table booking': 'values','Cuisines'}}\n",
    "    The values for all keys , should be 'low', 'medium', or 'high' based on the importance of the corresponding keys, as stated by user.\n",
    "    All the values in the example dictionary are only representative values.\n",
    "    {delimiter}\n",
    "    Here are some instructions around the values for the different keys. If you do not follow this, you'll be heavily penalised:\n",
    "    - The values for all keys, except 'City' and 'Cuisines', should strictly be either 'low', 'medium', or 'high' based on the importance of the corresponding keys, as stated by user.\n",
    "    - The value for 'City' and 'Cuisines' should be a string value extracted from the user's response.\n",
    "    - Do not randomly assign values to any of the keys.\n",
    "    - The values need to be inferred from the user's response.\n",
    "    {delimiter}\n",
    "\n",
    "    To fill the dictionary, you need to have the following chain of thoughts:\n",
    "    Follow the chain-of-thoughts below and only output the final updated python dictionary for the keys as described in {example_user_req}. \\n\n",
    "    {delimiter}\n",
    "    Thought 1: Ask a question to understand the user's profile and requirements. \\n\n",
    "    If their primary choice of restraurant is unclear. Ask followup questions to understand their needs.\n",
    "    You are trying to fill the values of all the keys {{'City','Price range','Aggregate rating','Votes','Has Table booking','Cuisines'}} in the python dictionary by understanding the user requirements.\n",
    "    Identify the keys for which you can fill the values confidently using the understanding. \\n\n",
    "    Remember the instructions around the values for the different keys.\n",
    "    If the necessary information has been extracted, only then proceed to the next step. \\n\n",
    "    Otherwise, rephrase the question to capture their profile clearly. \\n\n",
    "\n",
    "    {delimiter}\n",
    "    Thought 2: Now, you are trying to fill the values for the rest of the keys which you couldn't in the previous step.\n",
    "    Remember the instructions around the values for the different keys.\n",
    "    Ask questions you might have for all the keys to strengthen your understanding of the user's profile.\n",
    "    If yes, move to the next Thought. If no, ask question on the keys whose values you are unsure of. \\n\n",
    "    It is a good practice to ask question with a sound logic as opposed to directly citing the key you want to understand value for.\n",
    "    {delimiter}\n",
    "\n",
    "    {delimiter}\n",
    "    Thought 3: Check if you have correctly updated the values for the different keys in the python dictionary.\n",
    "    If you are not confident about any of the values, ask clarifying questions.\n",
    "    {delimiter}\n",
    "\n",
    "    {delimiter}\n",
    "    Here is a sample conversation between the user and assistant:\n",
    "    User: \"Hi, I am Ritik I want to visit restraurant in New York .\"\n",
    "    Assistant: \"Great choice, Ritik! New York is known for its amazing culinary scene. To help you find the perfect restaurant, could you please tell me how important the following factors are to you - price range, aggregate rating, number of votes, and whether the restaurant has table booking?\"\n",
    "    User: \"Basically a Restraurant with Table Bookings\"\n",
    "    Assistant: \"Thank you for providing that information.What will be youe cuisnes prefereance \"\n",
    "    User: \"I will go with indian food.\"\n",
    "    Assistant: \"Thank you for the information.Can you let me know your budget price for the restraurant.\"\n",
    "    User: \"Nothing more than $10.\"\n",
    "    Assistant:\"Can You Please let me know if you have preference for rating or up votes.\"\n",
    "    User: \"Any rating above 4 is good and with som 500 above up votes.\"\n",
    "    Assistant: \"{example_user_dict}\"\n",
    "    {delimiter}\n",
    "\n",
    "    Start with a short welcome message and encourage the user to share their requirements.\n",
    "    \"\"\"\n",
    "    conversation = [{\"role\": \"system\", \"content\": system_message}]\n",
    "    # conversation = system_message\n",
    "    return conversation"
   ]
  },
  {
   "cell_type": "code",
   "execution_count": 6,
   "id": "761888e3-3f0e-4d19-95f3-97ab65ee01ed",
   "metadata": {},
   "outputs": [
    {
     "name": "stdout",
     "output_type": "stream",
     "text": [
      "[{'role': 'system', 'content': '\\n    You are an intelligent restraurant reccomender and your goal is to find the best restraurant for user.\\n    You need to ask relevant questions and understand the user profile by analysing the user\\'s responses.\\n    You final objective is to fill the values for the different keys (\\'City\\',\\'Price range\\',\\'Aggregate rating\\',\\'Votes\\',\\'Has Table booking\\',\\'Cuisines\\') in the python dictionary and be confident of the values.\\n    These key value pairs define the user\\'s profile.\\n    The python dictionary looks like this\\n    {\\'City\\': \\'values\\',\\'Price range\\':\\'values\\', \\'Aggregate rating\\',\\'Votes\\': \\'values\\',\\'Has Table booking\\': \\'values\\',\\'Cuisines\\'}\\n    The values for all keys , should be \\'low\\', \\'medium\\', or \\'high\\' based on the importance of the corresponding keys, as stated by user.\\n    All the values in the example dictionary are only representative values.\\n    ####\\n    Here are some instructions around the values for the different keys. If you do not follow this, you\\'ll be heavily penalised:\\n    - The values for all keys, except \\'City\\' and \\'Cuisines\\', should strictly be either \\'low\\', \\'medium\\', or \\'high\\' based on the importance of the corresponding keys, as stated by user.\\n    - The value for \\'City\\' and \\'Cuisines\\' should be a string value extracted from the user\\'s response.\\n    - Do not randomly assign values to any of the keys.\\n    - The values need to be inferred from the user\\'s response.\\n    ####\\n\\n    To fill the dictionary, you need to have the following chain of thoughts:\\n    Follow the chain-of-thoughts below and only output the final updated python dictionary for the keys as described in {\\'City\\': \\'_\\', \\'Price range\\': \\'_\\', \\'Aggregate rating\\': \\'_\\', \\'Votes\\': \\'_\\', \\'Has Table booking\\': \\'_\\', \\'Cuisines\\': \\'_\\'}. \\n\\n    ####\\n    Thought 1: Ask a question to understand the user\\'s profile and requirements. \\n\\n    If their primary choice of restraurant is unclear. Ask followup questions to understand their needs.\\n    You are trying to fill the values of all the keys {\\'City\\',\\'Price range\\',\\'Aggregate rating\\',\\'Votes\\',\\'Has Table booking\\',\\'Cuisines\\'} in the python dictionary by understanding the user requirements.\\n    Identify the keys for which you can fill the values confidently using the understanding. \\n\\n    Remember the instructions around the values for the different keys.\\n    If the necessary information has been extracted, only then proceed to the next step. \\n\\n    Otherwise, rephrase the question to capture their profile clearly. \\n\\n\\n    ####\\n    Thought 2: Now, you are trying to fill the values for the rest of the keys which you couldn\\'t in the previous step.\\n    Remember the instructions around the values for the different keys.\\n    Ask questions you might have for all the keys to strengthen your understanding of the user\\'s profile.\\n    If yes, move to the next Thought. If no, ask question on the keys whose values you are unsure of. \\n\\n    It is a good practice to ask question with a sound logic as opposed to directly citing the key you want to understand value for.\\n    ####\\n\\n    ####\\n    Thought 3: Check if you have correctly updated the values for the different keys in the python dictionary.\\n    If you are not confident about any of the values, ask clarifying questions.\\n    ####\\n\\n    ####\\n    Here is a sample conversation between the user and assistant:\\n    User: \"Hi, I am Ritik I want to visit restraurant in New York .\"\\n    Assistant: \"Great choice, Ritik! New York is known for its amazing culinary scene. To help you find the perfect restaurant, could you please tell me how important the following factors are to you - price range, aggregate rating, number of votes, and whether the restaurant has table booking?\"\\n    User: \"Basically a Restraurant with Table Bookings\"\\n    Assistant: \"Thank you for providing that information.What will be youe cuisnes prefereance \"\\n    User: \"I will go with indian food.\"\\n    Assistant: \"Thank you for the information.Can you let me know your budget price for the restraurant.\"\\n    User: \"Nothing more than $10.\"\\n    Assistant:\"Can You Please let me know if you have preference for rating or up votes.\"\\n    User: \"Any rating above 4 is good and with som 500 above up votes.\"\\n    Assistant: \"{\\'City\\': \\'New York\\', \\'Price range\\': \\'6\\', \\'Aggregate rating\\': \\'low\\', \\'Votes\\': \\'high\\', \\'Has Table booking\\': \\'Yes\\', \\'Cuisines\\': \\'Indian\\'}\"\\n    ####\\n\\n    Start with a short welcome message and encourage the user to share their requirements.\\n    '}]\n"
     ]
    }
   ],
   "source": [
    "debug_conversation = initialize_conversation()\n",
    "print(debug_conversation)"
   ]
  },
  {
   "cell_type": "code",
   "execution_count": 7,
   "id": "7ba66eff-ba6f-4ae5-9b9a-ea230c5fee05",
   "metadata": {},
   "outputs": [
    {
     "name": "stdout",
     "output_type": "stream",
     "text": [
      "\n",
      "    You are an intelligent restraurant reccomender and your goal is to find the best restraurant for user.\n",
      "    You need to ask relevant questions and understand the user profile by analysing the user's responses.\n",
      "    You final objective is to fill the values for the different keys ('City','Price range','Aggregate rating','Votes','Has Table booking','Cuisines') in the python dictionary and be confident of the values.\n",
      "    These key value pairs define the user's profile.\n",
      "    The python dictionary looks like this\n",
      "    {'City': 'values','Price range':'values', 'Aggregate rating','Votes': 'values','Has Table booking': 'values','Cuisines'}\n",
      "    The values for all keys , should be 'low', 'medium', or 'high' based on the importance of the corresponding keys, as stated by user.\n",
      "    All the values in the example dictionary are only representative values.\n",
      "    ####\n",
      "    Here are some instructions around the values for the different keys. If you do not follow this, you'll be heavily penalised:\n",
      "    - The values for all keys, except 'City' and 'Cuisines', should strictly be either 'low', 'medium', or 'high' based on the importance of the corresponding keys, as stated by user.\n",
      "    - The value for 'City' and 'Cuisines' should be a string value extracted from the user's response.\n",
      "    - Do not randomly assign values to any of the keys.\n",
      "    - The values need to be inferred from the user's response.\n",
      "    ####\n",
      "\n",
      "    To fill the dictionary, you need to have the following chain of thoughts:\n",
      "    Follow the chain-of-thoughts below and only output the final updated python dictionary for the keys as described in {'City': '_', 'Price range': '_', 'Aggregate rating': '_', 'Votes': '_', 'Has Table booking': '_', 'Cuisines': '_'}. \n",
      "\n",
      "    ####\n",
      "    Thought 1: Ask a question to understand the user's profile and requirements. \n",
      "\n",
      "    If their primary choice of restraurant is unclear. Ask followup questions to understand their needs.\n",
      "    You are trying to fill the values of all the keys {'City','Price range','Aggregate rating','Votes','Has Table booking','Cuisines'} in the python dictionary by understanding the user requirements.\n",
      "    Identify the keys for which you can fill the values confidently using the understanding. \n",
      "\n",
      "    Remember the instructions around the values for the different keys.\n",
      "    If the necessary information has been extracted, only then proceed to the next step. \n",
      "\n",
      "    Otherwise, rephrase the question to capture their profile clearly. \n",
      "\n",
      "\n",
      "    ####\n",
      "    Thought 2: Now, you are trying to fill the values for the rest of the keys which you couldn't in the previous step.\n",
      "    Remember the instructions around the values for the different keys.\n",
      "    Ask questions you might have for all the keys to strengthen your understanding of the user's profile.\n",
      "    If yes, move to the next Thought. If no, ask question on the keys whose values you are unsure of. \n",
      "\n",
      "    It is a good practice to ask question with a sound logic as opposed to directly citing the key you want to understand value for.\n",
      "    ####\n",
      "\n",
      "    ####\n",
      "    Thought 3: Check if you have correctly updated the values for the different keys in the python dictionary.\n",
      "    If you are not confident about any of the values, ask clarifying questions.\n",
      "    ####\n",
      "\n",
      "    ####\n",
      "    Here is a sample conversation between the user and assistant:\n",
      "    User: \"Hi, I am Ritik I want to visit restraurant in New York .\"\n",
      "    Assistant: \"Great choice, Ritik! New York is known for its amazing culinary scene. To help you find the perfect restaurant, could you please tell me how important the following factors are to you - price range, aggregate rating, number of votes, and whether the restaurant has table booking?\"\n",
      "    User: \"Basically a Restraurant with Table Bookings\"\n",
      "    Assistant: \"Thank you for providing that information.What will be youe cuisnes prefereance \"\n",
      "    User: \"I will go with indian food.\"\n",
      "    Assistant: \"Thank you for the information.Can you let me know your budget price for the restraurant.\"\n",
      "    User: \"Nothing more than $10.\"\n",
      "    Assistant:\"Can You Please let me know if you have preference for rating or up votes.\"\n",
      "    User: \"Any rating above 4 is good and with som 500 above up votes.\"\n",
      "    Assistant: \"{'City': 'New York', 'Price range': '6', 'Aggregate rating': 'low', 'Votes': 'high', 'Has Table booking': 'Yes', 'Cuisines': 'Indian'}\"\n",
      "    ####\n",
      "\n",
      "    Start with a short welcome message and encourage the user to share their requirements.\n",
      "    \n"
     ]
    }
   ],
   "source": [
    "# Let's look at the content in the debug_conversation key\n",
    "print(debug_conversation[0]['content'])"
   ]
  },
  {
   "cell_type": "code",
   "execution_count": 8,
   "id": "9ca75680-ac20-4652-b757-2f0218ffd198",
   "metadata": {},
   "outputs": [
    {
     "name": "stdout",
     "output_type": "stream",
     "text": [
      "\n",
      "    You are an intelligent restraurant reccomender and your goal is to find the best restraurant for user.\n",
      "    You need to ask relevant questions and understand the user profile by analysing the user's responses.\n",
      "    You final objective is to fill the values for the different keys ('City','Price range','Aggregate rating','Votes','Has Table booking','Cuisines') in the python dictionary and be confident of the values.\n",
      "    These key value pairs define the user's profile.\n",
      "    The python dictionary looks like this\n",
      "    {'City': 'values','Price range':'values', 'Aggregate rating','Votes': 'values','Has Table booking': 'values','Cuisines'}\n",
      "    The values for all keys , should be 'low', 'medium', or 'high' based on the importance of the corresponding keys, as stated by user.\n",
      "    All the values in the example dictionary are only representative values.\n",
      "    ####\n",
      "    Here are some instructions around the values for the different keys. If you do not follow this, you'll be heavily penalised:\n",
      "    - The values for all keys, except 'City' and 'Cuisines', should strictly be either 'low', 'medium', or 'high' based on the importance of the corresponding keys, as stated by user.\n",
      "    - The value for 'City' and 'Cuisines' should be a string value extracted from the user's response.\n",
      "    - Do not randomly assign values to any of the keys.\n",
      "    - The values need to be inferred from the user's response.\n",
      "    ####\n",
      "\n",
      "    To fill the dictionary, you need to have the following chain of thoughts:\n",
      "    Follow the chain-of-thoughts below and only output the final updated python dictionary for the keys as described in {'City': '_', 'Price range': '_', 'Aggregate rating': '_', 'Votes': '_', 'Has Table booking': '_', 'Cuisines': '_'}. \n",
      "\n",
      "    ####\n",
      "    Thought 1: Ask a question to understand the user's profile and requirements. \n",
      "\n",
      "    If their primary choice of restraurant is unclear. Ask followup questions to understand their needs.\n",
      "    You are trying to fill the values of all the keys {'City','Price range','Aggregate rating','Votes','Has Table booking','Cuisines'} in the python dictionary by understanding the user requirements.\n",
      "    Identify the keys for which you can fill the values confidently using the understanding. \n",
      "\n",
      "    Remember the instructions around the values for the different keys.\n",
      "    If the necessary information has been extracted, only then proceed to the next step. \n",
      "\n",
      "    Otherwise, rephrase the question to capture their profile clearly. \n",
      "\n",
      "\n",
      "    ####\n",
      "    Thought 2: Now, you are trying to fill the values for the rest of the keys which you couldn't in the previous step.\n",
      "    Remember the instructions around the values for the different keys.\n",
      "    Ask questions you might have for all the keys to strengthen your understanding of the user's profile.\n",
      "    If yes, move to the next Thought. If no, ask question on the keys whose values you are unsure of. \n",
      "\n",
      "    It is a good practice to ask question with a sound logic as opposed to directly citing the key you want to understand value for.\n",
      "    ####\n",
      "\n",
      "    ####\n",
      "    Thought 3: Check if you have correctly updated the values for the different keys in the python dictionary.\n",
      "    If you are not confident about any of the values, ask clarifying questions.\n",
      "    ####\n",
      "\n",
      "    ####\n",
      "    Here is a sample conversation between the user and assistant:\n",
      "    User: \"Hi, I am Ritik I want to visit restraurant in New York .\"\n",
      "    Assistant: \"Great choice, Ritik! New York is known for its amazing culinary scene. To help you find the perfect restaurant, could you please tell me how important the following factors are to you - price range, aggregate rating, number of votes, and whether the restaurant has table booking?\"\n",
      "    User: \"Basically a Restraurant with Table Bookings\"\n",
      "    Assistant: \"Thank you for providing that information.What will be youe cuisnes prefereance \"\n",
      "    User: \"I will go with indian food.\"\n",
      "    Assistant: \"Thank you for the information.Can you let me know your budget price for the restraurant.\"\n",
      "    User: \"Nothing more than $10.\"\n",
      "    Assistant:\"Can You Please let me know if you have preference for rating or up votes.\"\n",
      "    User: \"Any rating above 4 is good and with som 500 above up votes.\"\n",
      "    Assistant: \"{'City': 'New York', 'Price range': '6', 'Aggregate rating': 'low', 'Votes': 'high', 'Has Table booking': 'Yes', 'Cuisines': 'Indian'}\"\n",
      "    ####\n",
      "\n",
      "    Start with a short welcome message and encourage the user to share their requirements.\n",
      "    \n"
     ]
    }
   ],
   "source": [
    "# Let's initialise conversation\n",
    "system_message = initialize_conversation()\n",
    "print(system_message[0][\"content\"])"
   ]
  },
  {
   "cell_type": "markdown",
   "id": "b55b9889-4b09-467a-bda2-ce475003cf9e",
   "metadata": {},
   "source": [
    "Let's now look at the next function.\n",
    "\n",
    "- get_chat_completions(): This takes the ongoing conversation as the input and returns the response by the assistant. We'll use the Chat Completions function for performing LLM calls to OpenAI.\n",
    "- get_chat_completions():\n",
    "This function perform LLM call using the Chat Completions API to get the LLM response."
   ]
  },
  {
   "cell_type": "code",
   "execution_count": 9,
   "id": "292ada31-bc26-421b-b559-f2e771e2a578",
   "metadata": {},
   "outputs": [],
   "source": [
    "# Define a Chat Completions API call\n",
    "# Retry up to 6 times with exponential backoff, starting at 1 second and maxing out at 20 seconds delay\n",
    "@retry(wait=wait_random_exponential(min=1, max=20), stop=stop_after_attempt(6))\n",
    "def get_chat_completions(input, json_format = False):\n",
    "    MODEL = 'gpt-3.5-turbo'\n",
    "\n",
    "    system_message_json_output = \"\"\"<<. Return output in JSON format to the key output.>>\"\"\"\n",
    "\n",
    "    # If the output is required to be in JSON format\n",
    "    if json_format == True:\n",
    "        # Append the input prompt to include JSON response as specified by OpenAI\n",
    "        input[0]['content'] += system_message_json_output\n",
    "\n",
    "        # JSON return type specified\n",
    "        chat_completion_json = openai.chat.completions.create(\n",
    "            model = MODEL,\n",
    "            messages = input,\n",
    "            response_format = { \"type\": \"json_object\"},\n",
    "            seed = 1234)\n",
    "\n",
    "        output = json.loads(chat_completion_json.choices[0].message.content)\n",
    "\n",
    "    # No JSON return type specified\n",
    "    else:\n",
    "        chat_completion = openai.chat.completions.create(\n",
    "            model = MODEL,\n",
    "            messages = input,\n",
    "            seed = 2345)\n",
    "\n",
    "        output = chat_completion.choices[0].message.content\n",
    "\n",
    "    return output"
   ]
  },
  {
   "cell_type": "code",
   "execution_count": 10,
   "id": "21ce31a2-f85c-4dc6-850e-164b2172eeb7",
   "metadata": {},
   "outputs": [
    {
     "data": {
      "text/plain": [
       "[{'role': 'user', 'content': 'What is the capital of France?'}]"
      ]
     },
     "execution_count": 10,
     "metadata": {},
     "output_type": "execute_result"
    }
   ],
   "source": [
    "# Testing the OpenAI functions defined above\n",
    "input_prompt ='What is the capital of France?'\n",
    "messages = [{'role':'user','content':input_prompt}]\n",
    "# system_message_json_output = \"\"\"<<. Return output in JSON format.>>\"\"\"\n",
    "# messages[0]['content']+=system_message_json_output\n",
    "messages"
   ]
  },
  {
   "cell_type": "code",
   "execution_count": 11,
   "id": "714dcb68-73dd-47c3-9c9a-83344873e28c",
   "metadata": {},
   "outputs": [
    {
     "data": {
      "text/plain": [
       "'The capital of France is Paris.'"
      ]
     },
     "execution_count": 11,
     "metadata": {},
     "output_type": "execute_result"
    }
   ],
   "source": [
    "## Get LLM Outputs - normal\n",
    "get_chat_completions(messages) ## Chat Completions API"
   ]
  },
  {
   "cell_type": "code",
   "execution_count": 12,
   "id": "8e628d40-be9b-48bb-bb6e-92a5d2d49c7b",
   "metadata": {},
   "outputs": [
    {
     "data": {
      "text/plain": [
       "{'output': 'Paris'}"
      ]
     },
     "execution_count": 12,
     "metadata": {},
     "output_type": "execute_result"
    }
   ],
   "source": [
    "## Get LLM Outputs - JSON output\n",
    "get_chat_completions(messages, json_format = True) ## Chat Completions API and return in JSON format"
   ]
  },
  {
   "cell_type": "markdown",
   "id": "962d69be-0a2d-46fe-b814-5733c45f28c2",
   "metadata": {},
   "source": [
    "- iterate_response() - Helper Function:\n",
    "We've created a small helper test function to ensure the model's response is consistent. Uncomment the code blocks and run the function iterate_response(response) to check if the response of the intent_confirmation_layeris consistent.}"
   ]
  },
  {
   "cell_type": "code",
   "execution_count": 13,
   "id": "d163a71c-3a9e-4f33-928e-90874e2a0a5e",
   "metadata": {},
   "outputs": [],
   "source": [
    "def iterate_llm_response(funct, debug_response, num = 10):\n",
    "    \"\"\"\n",
    "    Calls a specified function repeatedly and prints the results.\n",
    "    This function is designed to test the consistency of a response from a given function.\n",
    "    It calls the function multiple times (default is 10) and prints out the iteration count,\n",
    "    the function's response(s).\n",
    "    Args:\n",
    "        funct (function): The function to be tested. This function should accept a single argument\n",
    "                          and return the response value(s).\n",
    "        debug_response (dict): The input argument to be passed to 'funct' on each call.\n",
    "        num (int, optional): The number of times 'funct' will be called. Defaults to 10.\n",
    "    Returns:\n",
    "        This function only returns the results to the console.\n",
    "    \"\"\"\n",
    "    i = 0  # Initialize counter\n",
    "\n",
    "    while i < num:  # Loop to call the function 'num' times\n",
    "\n",
    "        response = funct(debug_response)  # Call the function with the debug response\n",
    "\n",
    "        # Print the iteration number, result, and reason from the response\n",
    "        print(\"Iteration: {0}\".format(i))\n",
    "        print(response)\n",
    "        print('-' * 50)  # Print a separator line for readability\n",
    "        i += 1  # Increment the counter\n",
    "\n",
    "# Example usage: test the consistency of responses from 'intent_confirmation_layer'\n",
    "# iterate_llm_response(get_chat_completions, messages)"
   ]
  },
  {
   "cell_type": "code",
   "execution_count": 14,
   "id": "fcd5a655-63df-4bd9-aa62-077837ced646",
   "metadata": {},
   "outputs": [],
   "source": [
    "debug_user_input = \"Hi, I am Ritik. I want to go to a restraurant in New York.\""
   ]
  },
  {
   "cell_type": "code",
   "execution_count": 15,
   "id": "6c4cd276-1b69-4e89-a259-c09885c941a9",
   "metadata": {},
   "outputs": [
    {
     "name": "stdout",
     "output_type": "stream",
     "text": [
      "Hi, I am Ritik. I want to go to a restraurant in New York.\n"
     ]
    }
   ],
   "source": [
    "debug_conversation.append({\"role\": \"user\", \"content\": debug_user_input})\n",
    "# print(debug_conversation[0][\"content\"]) # System Message\n",
    "print(debug_conversation[1][\"content\"]) # User Input/"
   ]
  },
  {
   "cell_type": "code",
   "execution_count": 16,
   "id": "b0e6ef52-db93-47e0-bcec-d21549103570",
   "metadata": {},
   "outputs": [
    {
     "data": {
      "text/plain": [
       "[{'role': 'system',\n",
       "  'content': '\\n    You are an intelligent restraurant reccomender and your goal is to find the best restraurant for user.\\n    You need to ask relevant questions and understand the user profile by analysing the user\\'s responses.\\n    You final objective is to fill the values for the different keys (\\'City\\',\\'Price range\\',\\'Aggregate rating\\',\\'Votes\\',\\'Has Table booking\\',\\'Cuisines\\') in the python dictionary and be confident of the values.\\n    These key value pairs define the user\\'s profile.\\n    The python dictionary looks like this\\n    {\\'City\\': \\'values\\',\\'Price range\\':\\'values\\', \\'Aggregate rating\\',\\'Votes\\': \\'values\\',\\'Has Table booking\\': \\'values\\',\\'Cuisines\\'}\\n    The values for all keys , should be \\'low\\', \\'medium\\', or \\'high\\' based on the importance of the corresponding keys, as stated by user.\\n    All the values in the example dictionary are only representative values.\\n    ####\\n    Here are some instructions around the values for the different keys. If you do not follow this, you\\'ll be heavily penalised:\\n    - The values for all keys, except \\'City\\' and \\'Cuisines\\', should strictly be either \\'low\\', \\'medium\\', or \\'high\\' based on the importance of the corresponding keys, as stated by user.\\n    - The value for \\'City\\' and \\'Cuisines\\' should be a string value extracted from the user\\'s response.\\n    - Do not randomly assign values to any of the keys.\\n    - The values need to be inferred from the user\\'s response.\\n    ####\\n\\n    To fill the dictionary, you need to have the following chain of thoughts:\\n    Follow the chain-of-thoughts below and only output the final updated python dictionary for the keys as described in {\\'City\\': \\'_\\', \\'Price range\\': \\'_\\', \\'Aggregate rating\\': \\'_\\', \\'Votes\\': \\'_\\', \\'Has Table booking\\': \\'_\\', \\'Cuisines\\': \\'_\\'}. \\n\\n    ####\\n    Thought 1: Ask a question to understand the user\\'s profile and requirements. \\n\\n    If their primary choice of restraurant is unclear. Ask followup questions to understand their needs.\\n    You are trying to fill the values of all the keys {\\'City\\',\\'Price range\\',\\'Aggregate rating\\',\\'Votes\\',\\'Has Table booking\\',\\'Cuisines\\'} in the python dictionary by understanding the user requirements.\\n    Identify the keys for which you can fill the values confidently using the understanding. \\n\\n    Remember the instructions around the values for the different keys.\\n    If the necessary information has been extracted, only then proceed to the next step. \\n\\n    Otherwise, rephrase the question to capture their profile clearly. \\n\\n\\n    ####\\n    Thought 2: Now, you are trying to fill the values for the rest of the keys which you couldn\\'t in the previous step.\\n    Remember the instructions around the values for the different keys.\\n    Ask questions you might have for all the keys to strengthen your understanding of the user\\'s profile.\\n    If yes, move to the next Thought. If no, ask question on the keys whose values you are unsure of. \\n\\n    It is a good practice to ask question with a sound logic as opposed to directly citing the key you want to understand value for.\\n    ####\\n\\n    ####\\n    Thought 3: Check if you have correctly updated the values for the different keys in the python dictionary.\\n    If you are not confident about any of the values, ask clarifying questions.\\n    ####\\n\\n    ####\\n    Here is a sample conversation between the user and assistant:\\n    User: \"Hi, I am Ritik I want to visit restraurant in New York .\"\\n    Assistant: \"Great choice, Ritik! New York is known for its amazing culinary scene. To help you find the perfect restaurant, could you please tell me how important the following factors are to you - price range, aggregate rating, number of votes, and whether the restaurant has table booking?\"\\n    User: \"Basically a Restraurant with Table Bookings\"\\n    Assistant: \"Thank you for providing that information.What will be youe cuisnes prefereance \"\\n    User: \"I will go with indian food.\"\\n    Assistant: \"Thank you for the information.Can you let me know your budget price for the restraurant.\"\\n    User: \"Nothing more than $10.\"\\n    Assistant:\"Can You Please let me know if you have preference for rating or up votes.\"\\n    User: \"Any rating above 4 is good and with som 500 above up votes.\"\\n    Assistant: \"{\\'City\\': \\'New York\\', \\'Price range\\': \\'6\\', \\'Aggregate rating\\': \\'low\\', \\'Votes\\': \\'high\\', \\'Has Table booking\\': \\'Yes\\', \\'Cuisines\\': \\'Indian\\'}\"\\n    ####\\n\\n    Start with a short welcome message and encourage the user to share their requirements.\\n    '},\n",
       " {'role': 'user',\n",
       "  'content': 'Hi, I am Ritik. I want to go to a restraurant in New York.'}]"
      ]
     },
     "metadata": {},
     "output_type": "display_data"
    }
   ],
   "source": [
    "# Let's look at the debug_conversation list\n",
    "display(debug_conversation)"
   ]
  },
  {
   "cell_type": "code",
   "execution_count": 17,
   "id": "82bea86f-72b8-4e72-b470-74befddc16e8",
   "metadata": {},
   "outputs": [
    {
     "data": {
      "text/plain": [
       "'Great choice, Ritik! New York is known for its amazing culinary scene. To help you find the perfect restaurant, could you please tell me how important the following factors are to you - price range, aggregate rating, number of votes, and whether the restaurant has table booking?'"
      ]
     },
     "metadata": {},
     "output_type": "display_data"
    }
   ],
   "source": [
    "# Getting the response from the Assistant by passing the conversation to the Chat Completions API\n",
    "debug_response_assistant = get_chat_completions(debug_conversation)\n",
    "display(debug_response_assistant)"
   ]
  },
  {
   "cell_type": "code",
   "execution_count": 18,
   "id": "4402766f-45d5-4d53-b1fa-0c5dd1da7840",
   "metadata": {},
   "outputs": [
    {
     "data": {
      "text/plain": [
       "[{'role': 'system',\n",
       "  'content': '\\n    You are an intelligent restraurant reccomender and your goal is to find the best restraurant for user.\\n    You need to ask relevant questions and understand the user profile by analysing the user\\'s responses.\\n    You final objective is to fill the values for the different keys (\\'City\\',\\'Price range\\',\\'Aggregate rating\\',\\'Votes\\',\\'Has Table booking\\',\\'Cuisines\\') in the python dictionary and be confident of the values.\\n    These key value pairs define the user\\'s profile.\\n    The python dictionary looks like this\\n    {\\'City\\': \\'values\\',\\'Price range\\':\\'values\\', \\'Aggregate rating\\',\\'Votes\\': \\'values\\',\\'Has Table booking\\': \\'values\\',\\'Cuisines\\'}\\n    The values for all keys , should be \\'low\\', \\'medium\\', or \\'high\\' based on the importance of the corresponding keys, as stated by user.\\n    All the values in the example dictionary are only representative values.\\n    ####\\n    Here are some instructions around the values for the different keys. If you do not follow this, you\\'ll be heavily penalised:\\n    - The values for all keys, except \\'City\\' and \\'Cuisines\\', should strictly be either \\'low\\', \\'medium\\', or \\'high\\' based on the importance of the corresponding keys, as stated by user.\\n    - The value for \\'City\\' and \\'Cuisines\\' should be a string value extracted from the user\\'s response.\\n    - Do not randomly assign values to any of the keys.\\n    - The values need to be inferred from the user\\'s response.\\n    ####\\n\\n    To fill the dictionary, you need to have the following chain of thoughts:\\n    Follow the chain-of-thoughts below and only output the final updated python dictionary for the keys as described in {\\'City\\': \\'_\\', \\'Price range\\': \\'_\\', \\'Aggregate rating\\': \\'_\\', \\'Votes\\': \\'_\\', \\'Has Table booking\\': \\'_\\', \\'Cuisines\\': \\'_\\'}. \\n\\n    ####\\n    Thought 1: Ask a question to understand the user\\'s profile and requirements. \\n\\n    If their primary choice of restraurant is unclear. Ask followup questions to understand their needs.\\n    You are trying to fill the values of all the keys {\\'City\\',\\'Price range\\',\\'Aggregate rating\\',\\'Votes\\',\\'Has Table booking\\',\\'Cuisines\\'} in the python dictionary by understanding the user requirements.\\n    Identify the keys for which you can fill the values confidently using the understanding. \\n\\n    Remember the instructions around the values for the different keys.\\n    If the necessary information has been extracted, only then proceed to the next step. \\n\\n    Otherwise, rephrase the question to capture their profile clearly. \\n\\n\\n    ####\\n    Thought 2: Now, you are trying to fill the values for the rest of the keys which you couldn\\'t in the previous step.\\n    Remember the instructions around the values for the different keys.\\n    Ask questions you might have for all the keys to strengthen your understanding of the user\\'s profile.\\n    If yes, move to the next Thought. If no, ask question on the keys whose values you are unsure of. \\n\\n    It is a good practice to ask question with a sound logic as opposed to directly citing the key you want to understand value for.\\n    ####\\n\\n    ####\\n    Thought 3: Check if you have correctly updated the values for the different keys in the python dictionary.\\n    If you are not confident about any of the values, ask clarifying questions.\\n    ####\\n\\n    ####\\n    Here is a sample conversation between the user and assistant:\\n    User: \"Hi, I am Ritik I want to visit restraurant in New York .\"\\n    Assistant: \"Great choice, Ritik! New York is known for its amazing culinary scene. To help you find the perfect restaurant, could you please tell me how important the following factors are to you - price range, aggregate rating, number of votes, and whether the restaurant has table booking?\"\\n    User: \"Basically a Restraurant with Table Bookings\"\\n    Assistant: \"Thank you for providing that information.What will be youe cuisnes prefereance \"\\n    User: \"I will go with indian food.\"\\n    Assistant: \"Thank you for the information.Can you let me know your budget price for the restraurant.\"\\n    User: \"Nothing more than $10.\"\\n    Assistant:\"Can You Please let me know if you have preference for rating or up votes.\"\\n    User: \"Any rating above 4 is good and with som 500 above up votes.\"\\n    Assistant: \"{\\'City\\': \\'New York\\', \\'Price range\\': \\'6\\', \\'Aggregate rating\\': \\'low\\', \\'Votes\\': \\'high\\', \\'Has Table booking\\': \\'Yes\\', \\'Cuisines\\': \\'Indian\\'}\"\\n    ####\\n\\n    Start with a short welcome message and encourage the user to share their requirements.\\n    '},\n",
       " {'role': 'user',\n",
       "  'content': 'Hi, I am Ritik. I want to go to a restraurant in New York.'},\n",
       " {'role': 'system',\n",
       "  'content': 'Great choice, Ritik! New York is known for its amazing culinary scene. To help you find the perfect restaurant, could you please tell me how important the following factors are to you - price range, aggregate rating, number of votes, and whether the restaurant has table booking?'}]"
      ]
     },
     "execution_count": 18,
     "metadata": {},
     "output_type": "execute_result"
    }
   ],
   "source": [
    "# Let's append this to the conversation list\n",
    "debug_conversation.append(({\"role\": \"system\", \"content\": debug_response_assistant}))\n",
    "debug_conversation"
   ]
  },
  {
   "cell_type": "markdown",
   "id": "753694fb-19cb-4efc-83bf-b9810609df7a",
   "metadata": {},
   "source": [
    "- moderation_check():\n",
    "This checks if the user's or the assistant's message is inappropriate. If any of these is inappropriate, you can add a break statement to end the conversation."
   ]
  },
  {
   "cell_type": "code",
   "execution_count": 19,
   "id": "2cc6cc6f-f4a6-4ef7-ae95-aa75b4a16e1d",
   "metadata": {},
   "outputs": [],
   "source": [
    "# Define a function called moderation_check that takes user_input as a parameter.\n",
    "\n",
    "def moderation_check(user_input):\n",
    "    # Call the OpenAI API to perform moderation on the user's input.\n",
    "    response = openai.moderations.create(input=user_input)\n",
    "\n",
    "    # Extract the moderation result from the API response.\n",
    "    moderation_output = response.results[0].flagged\n",
    "    # Check if the input was flagged by the moderation system.\n",
    "    if response.results[0].flagged == True:\n",
    "        # If flagged, return \"Flagged\"\n",
    "        return \"Flagged\"\n",
    "    else:\n",
    "        # If not flagged, return \"Not Flagged\"\n",
    "        return \"Not Flagged\""
   ]
  },
  {
   "cell_type": "code",
   "execution_count": 20,
   "id": "a5c1683a-77ff-41e4-a16c-02d6e02033e0",
   "metadata": {},
   "outputs": [
    {
     "data": {
      "text/plain": [
       "'Flagged'"
      ]
     },
     "execution_count": 20,
     "metadata": {},
     "output_type": "execute_result"
    }
   ],
   "source": [
    "moderation_check(\"I want to kill them.\")"
   ]
  },
  {
   "cell_type": "code",
   "execution_count": 21,
   "id": "326d78fe-dfd6-426d-9d48-24787eeb374f",
   "metadata": {},
   "outputs": [
    {
     "name": "stdout",
     "output_type": "stream",
     "text": [
      "Not Flagged\n"
     ]
    }
   ],
   "source": [
    "debug_moderation = moderation_check(debug_user_input)\n",
    "print(debug_moderation)"
   ]
  },
  {
   "cell_type": "code",
   "execution_count": 22,
   "id": "0cfa3b62-5f15-4e13-9605-16ae58eb9704",
   "metadata": {},
   "outputs": [
    {
     "name": "stdout",
     "output_type": "stream",
     "text": [
      "Flagged\n",
      "Not Flagged\n"
     ]
    }
   ],
   "source": [
    "print(moderation_check(\"I want to kill Ravan.\"))\n",
    "print(moderation_check(\"I need a restraurant\"))"
   ]
  },
  {
   "cell_type": "code",
   "execution_count": 23,
   "id": "ee5c3556-2945-4bcb-8dae-05ab187b5abf",
   "metadata": {},
   "outputs": [
    {
     "data": {
      "text/plain": [
       "'Not Flagged'"
      ]
     },
     "execution_count": 23,
     "metadata": {},
     "output_type": "execute_result"
    }
   ],
   "source": [
    "moderation_check(debug_response_assistant)"
   ]
  },
  {
   "cell_type": "code",
   "execution_count": 24,
   "id": "954728ca-ff32-48d7-99c9-76cb4afa79a2",
   "metadata": {},
   "outputs": [],
   "source": [
    "def intent_confirmation_layer(response_assistant):\n",
    "\n",
    "    delimiter = \"####\"\n",
    "\n",
    "    allowed_values = {'low','medium','high',}\n",
    "\n",
    "    prompt = f\"\"\"\n",
    "    You are a senior evaluator who has an eye for detail.The input text will contain a user requirement captured through 6 keys.\n",
    "    You are provided an input. You need to evaluate if the input text has the following keys:\n",
    "    {{\n",
    "    'City': 'string',\n",
    "    'Price range':'values',\n",
    "    'Aggregrate Rating':'values',\n",
    "    'Has Table booking':'values',\n",
    "    'Votes':'values',\n",
    "    'Cuisines':'string'\n",
    "    }}\n",
    "    The values for the keys should only be from the allowed values: {allowed_values}.\n",
    "    The 'City' and 'Cuisines' keys can take only a string value.\n",
    "    Next you need to evaluate if the keys have the the values filled correctly.\n",
    "    Only output a one-word string in JSON format at the key 'result' - Yes/No.\n",
    "    Thought 1 - Output a string 'Yes' if the values are correctly filled for all keys, otherwise output 'No'.\n",
    "    Thought 2 - If the answer is No, mention the reason in the key 'reason'.\n",
    "    THought 3 - Think carefully before the answering.\n",
    "    \"\"\"\n",
    "\n",
    "    messages=[{\"role\": \"system\", \"content\":prompt },\n",
    "              {\"role\": \"user\", \"content\":f\"\"\"Here is the input: {response_assistant}\"\"\" }]\n",
    "\n",
    "    response = openai.chat.completions.create(\n",
    "                                    model=\"gpt-3.5-turbo\",\n",
    "                                    messages = messages,\n",
    "                                    response_format={ \"type\": \"json_object\" },\n",
    "                                    seed = 1234\n",
    "                                    # n = 5\n",
    "                                    )\n",
    "\n",
    "    json_output = json.loads(response.choices[0].message.content)\n",
    "\n",
    "    return json_output"
   ]
  },
  {
   "cell_type": "code",
   "execution_count": 25,
   "id": "b6c71550-5819-429e-8b92-72ce33090ddb",
   "metadata": {},
   "outputs": [
    {
     "data": {
      "text/plain": [
       "'Great choice, Ritik! New York is known for its amazing culinary scene. To help you find the perfect restaurant, could you please tell me how important the following factors are to you - price range, aggregate rating, number of votes, and whether the restaurant has table booking?'"
      ]
     },
     "execution_count": 25,
     "metadata": {},
     "output_type": "execute_result"
    }
   ],
   "source": [
    "debug_response_assistant"
   ]
  },
  {
   "cell_type": "code",
   "execution_count": 26,
   "id": "5edf95df-15bd-4ff8-8d2d-96285c6c151f",
   "metadata": {},
   "outputs": [
    {
     "data": {
      "text/plain": [
       "{'result': 'No',\n",
       " 'reason': \"Missing required keys: 'City', 'Price range', 'Aggregrate Rating', 'Has Table booking', 'Votes', 'Cuisines'\"}"
      ]
     },
     "metadata": {},
     "output_type": "display_data"
    }
   ],
   "source": [
    "debug_confirmation = intent_confirmation_layer(debug_response_assistant)\n",
    "display(debug_confirmation)"
   ]
  },
  {
   "cell_type": "code",
   "execution_count": 27,
   "id": "e2224cb6-fe0b-4f76-b82d-87d1e309a841",
   "metadata": {},
   "outputs": [
    {
     "name": "stdout",
     "output_type": "stream",
     "text": [
      "Result: No \t Reason: Missing required keys: 'City', 'Price range', 'Aggregrate Rating', 'Has Table booking', 'Votes', 'Cuisines'\n"
     ]
    }
   ],
   "source": [
    "# Printing the value for better clarity\n",
    "print(\"Result:\",debug_confirmation.get('result'),\"\\t\", \"Reason:\", debug_confirmation.get('reason'))"
   ]
  },
  {
   "cell_type": "code",
   "execution_count": 28,
   "id": "01bebe0f-896e-435d-a82b-b1d3287cd043",
   "metadata": {},
   "outputs": [],
   "source": [
    "#Let's add the above assistant response to the debug_conversation.\n",
    "debug_conversation.append({\"role\": \"assistant\", \"content\": debug_response_assistant})"
   ]
  },
  {
   "cell_type": "code",
   "execution_count": 29,
   "id": "832c6b89-f365-47a6-8ba5-9014dbd10cce",
   "metadata": {},
   "outputs": [
    {
     "data": {
      "text/plain": [
       "[{'role': 'system',\n",
       "  'content': '\\n    You are an intelligent restraurant reccomender and your goal is to find the best restraurant for user.\\n    You need to ask relevant questions and understand the user profile by analysing the user\\'s responses.\\n    You final objective is to fill the values for the different keys (\\'City\\',\\'Price range\\',\\'Aggregate rating\\',\\'Votes\\',\\'Has Table booking\\',\\'Cuisines\\') in the python dictionary and be confident of the values.\\n    These key value pairs define the user\\'s profile.\\n    The python dictionary looks like this\\n    {\\'City\\': \\'values\\',\\'Price range\\':\\'values\\', \\'Aggregate rating\\',\\'Votes\\': \\'values\\',\\'Has Table booking\\': \\'values\\',\\'Cuisines\\'}\\n    The values for all keys , should be \\'low\\', \\'medium\\', or \\'high\\' based on the importance of the corresponding keys, as stated by user.\\n    All the values in the example dictionary are only representative values.\\n    ####\\n    Here are some instructions around the values for the different keys. If you do not follow this, you\\'ll be heavily penalised:\\n    - The values for all keys, except \\'City\\' and \\'Cuisines\\', should strictly be either \\'low\\', \\'medium\\', or \\'high\\' based on the importance of the corresponding keys, as stated by user.\\n    - The value for \\'City\\' and \\'Cuisines\\' should be a string value extracted from the user\\'s response.\\n    - Do not randomly assign values to any of the keys.\\n    - The values need to be inferred from the user\\'s response.\\n    ####\\n\\n    To fill the dictionary, you need to have the following chain of thoughts:\\n    Follow the chain-of-thoughts below and only output the final updated python dictionary for the keys as described in {\\'City\\': \\'_\\', \\'Price range\\': \\'_\\', \\'Aggregate rating\\': \\'_\\', \\'Votes\\': \\'_\\', \\'Has Table booking\\': \\'_\\', \\'Cuisines\\': \\'_\\'}. \\n\\n    ####\\n    Thought 1: Ask a question to understand the user\\'s profile and requirements. \\n\\n    If their primary choice of restraurant is unclear. Ask followup questions to understand their needs.\\n    You are trying to fill the values of all the keys {\\'City\\',\\'Price range\\',\\'Aggregate rating\\',\\'Votes\\',\\'Has Table booking\\',\\'Cuisines\\'} in the python dictionary by understanding the user requirements.\\n    Identify the keys for which you can fill the values confidently using the understanding. \\n\\n    Remember the instructions around the values for the different keys.\\n    If the necessary information has been extracted, only then proceed to the next step. \\n\\n    Otherwise, rephrase the question to capture their profile clearly. \\n\\n\\n    ####\\n    Thought 2: Now, you are trying to fill the values for the rest of the keys which you couldn\\'t in the previous step.\\n    Remember the instructions around the values for the different keys.\\n    Ask questions you might have for all the keys to strengthen your understanding of the user\\'s profile.\\n    If yes, move to the next Thought. If no, ask question on the keys whose values you are unsure of. \\n\\n    It is a good practice to ask question with a sound logic as opposed to directly citing the key you want to understand value for.\\n    ####\\n\\n    ####\\n    Thought 3: Check if you have correctly updated the values for the different keys in the python dictionary.\\n    If you are not confident about any of the values, ask clarifying questions.\\n    ####\\n\\n    ####\\n    Here is a sample conversation between the user and assistant:\\n    User: \"Hi, I am Ritik I want to visit restraurant in New York .\"\\n    Assistant: \"Great choice, Ritik! New York is known for its amazing culinary scene. To help you find the perfect restaurant, could you please tell me how important the following factors are to you - price range, aggregate rating, number of votes, and whether the restaurant has table booking?\"\\n    User: \"Basically a Restraurant with Table Bookings\"\\n    Assistant: \"Thank you for providing that information.What will be youe cuisnes prefereance \"\\n    User: \"I will go with indian food.\"\\n    Assistant: \"Thank you for the information.Can you let me know your budget price for the restraurant.\"\\n    User: \"Nothing more than $10.\"\\n    Assistant:\"Can You Please let me know if you have preference for rating or up votes.\"\\n    User: \"Any rating above 4 is good and with som 500 above up votes.\"\\n    Assistant: \"{\\'City\\': \\'New York\\', \\'Price range\\': \\'6\\', \\'Aggregate rating\\': \\'low\\', \\'Votes\\': \\'high\\', \\'Has Table booking\\': \\'Yes\\', \\'Cuisines\\': \\'Indian\\'}\"\\n    ####\\n\\n    Start with a short welcome message and encourage the user to share their requirements.\\n    '},\n",
       " {'role': 'user',\n",
       "  'content': 'Hi, I am Ritik. I want to go to a restraurant in New York.'},\n",
       " {'role': 'system',\n",
       "  'content': 'Great choice, Ritik! New York is known for its amazing culinary scene. To help you find the perfect restaurant, could you please tell me how important the following factors are to you - price range, aggregate rating, number of votes, and whether the restaurant has table booking?'},\n",
       " {'role': 'assistant',\n",
       "  'content': 'Great choice, Ritik! New York is known for its amazing culinary scene. To help you find the perfect restaurant, could you please tell me how important the following factors are to you - price range, aggregate rating, number of votes, and whether the restaurant has table booking?'}]"
      ]
     },
     "execution_count": 29,
     "metadata": {},
     "output_type": "execute_result"
    }
   ],
   "source": [
    "debug_conversation"
   ]
  },
  {
   "cell_type": "code",
   "execution_count": 30,
   "id": "aafcb00e-a39e-43a6-a898-5fcf6dfe0f9b",
   "metadata": {},
   "outputs": [
    {
     "name": "stdout",
     "output_type": "stream",
     "text": [
      "\n",
      "Great, thank you for clarifying your requirements.\n",
      "Based on your inputs, here is the final restraurant type you are looking for:\n",
      "{'City':'New York',\n",
      " 'Price range':'high',\n",
      " 'Aggregrate rating':'low',\n",
      " 'Has Table booking':'low',\n",
      " 'Votes':'low',\n",
      " 'Cuisines':'Indian'}\n",
      "\n"
     ]
    }
   ],
   "source": [
    "# Example 1 - Let's check with the confirmation_layer if all the keys are present\n",
    "debug_response_assistant_1 = f\"\"\"\n",
    "Great, thank you for clarifying your requirements.\n",
    "Based on your inputs, here is the final restraurant type you are looking for:\n",
    "{{'City':'New York',\n",
    " 'Price range':'high',\n",
    " 'Aggregrate rating':'low',\n",
    " 'Has Table booking':'low',\n",
    " 'Votes':'low',\n",
    " 'Cuisines':'Indian'}}\n",
    "\"\"\"\n",
    "#Note that you are using double curly braces\n",
    "\n",
    "print(debug_response_assistant_1)"
   ]
  },
  {
   "cell_type": "code",
   "execution_count": 31,
   "id": "7c0ddcec-525f-45e0-8152-083db4cadc1f",
   "metadata": {},
   "outputs": [
    {
     "data": {
      "text/plain": [
       "'No'"
      ]
     },
     "execution_count": 31,
     "metadata": {},
     "output_type": "execute_result"
    }
   ],
   "source": [
    "response = intent_confirmation_layer(debug_response_assistant_1)\n",
    "response.get('result') # Extract the result key from the dictionary"
   ]
  },
  {
   "cell_type": "markdown",
   "id": "74773066-26a6-4509-9966-d9eb50d57ea0",
   "metadata": {},
   "source": [
    "- dictionary_present():\n",
    "This function checks if the final understanding of user's profile is returned by the chatbot is a Python dictionary or not. This is important as it'll be used later on for finding the right restraurants using dictionary matching."
   ]
  },
  {
   "cell_type": "code",
   "execution_count": 32,
   "id": "998c3d0f-d07a-4d91-a271-f9eb6c91b99a",
   "metadata": {},
   "outputs": [],
   "source": [
    "def dictionary_present(response):\n",
    "    delimiter = \"####\"\n",
    "\n",
    "    user_req = {'City': 'New York',\n",
    "                'Price range': 'high',\n",
    "                'Aggregrate rating': 'medium',\n",
    "                'Has Table booking': 'high',\n",
    "                'Votes': 'high',\n",
    "                'Cuisines': 'Indian'}\n",
    "\n",
    "    prompt = f\"\"\"You are a python expert. You are provided an input.\n",
    "            You have to check if there is a python dictionary present in the string.\n",
    "            It will have the following format {user_req}.\n",
    "            Your task is to just extract the relevant values from the input and return only the python dictionary in JSON format.\n",
    "            The output should match the format as {user_req}.\n",
    "\n",
    "            {delimiter}\n",
    "           \n",
    "            The output should contain the exact keys and values as present in the input.\n",
    "            Ensure the keys and values are in the given format:\n",
    "            {{\n",
    "            'City': 'string Value',\n",
    "            'Price range':'low/medium/high',\n",
    "            'Aggregrate rating':'low/medium/high',\n",
    "            'Has Table booking':'Yes/No',\n",
    "            'Votes':'low/medium/high',\n",
    "            'Cuisines':'string value'\n",
    "            }}\n",
    "            Here are some sample input output pairs for better understanding:\n",
    "            {delimiter}\n",
    "            input 1: - City: 'New York' - Price range: high - Aggregrate rating: high - Has Table booking: Yes - Votes: medium - Cuisines: Indian\n",
    "            output 1: {{City': 'New York', 'Price range': 'high', 'Aggregrate rating': 'high', 'Has Table booking': 'Yes', 'Votes': 'medium', 'Cuisines': 'Indian'}}\n",
    "            \n",
    "            {delimiter}\n",
    "            \"\"\"\n",
    "    messages = [{\"role\": \"system\", \"content\":prompt },\n",
    "                {\"role\": \"user\", \"content\":f\"\"\"Here is the user input: {response}\"\"\" }]\n",
    "\n",
    "    confirmation = get_chat_completions(messages, json_format = True)\n",
    "\n",
    "    return confirmation"
   ]
  },
  {
   "cell_type": "code",
   "execution_count": 33,
   "id": "87c0482b-9190-4826-becc-4ad3e95ae774",
   "metadata": {},
   "outputs": [],
   "source": [
    "debug_response_assistant_n = \"\"\"\n",
    "{'City':'New York',\n",
    " 'Price range':'high',\n",
    " 'Aggregrate rating ':'high',\n",
    " 'Has Table booking':'Yes',\n",
    " 'Votes':'low',\n",
    " 'Cuisines':'Indian'}\n",
    "\"\"\""
   ]
  },
  {
   "cell_type": "code",
   "execution_count": 34,
   "id": "19e434b7-8769-44dc-9849-3ca687e56f6b",
   "metadata": {},
   "outputs": [
    {
     "data": {
      "text/plain": [
       "{'City': 'New York',\n",
       " 'Price range': 'high',\n",
       " 'Aggregrate rating': 'high',\n",
       " 'Has Table booking': 'Yes',\n",
       " 'Votes': 'low',\n",
       " 'Cuisines': 'Indian'}"
      ]
     },
     "metadata": {},
     "output_type": "display_data"
    }
   ],
   "source": [
    "response_dict_n = dictionary_present(debug_response_assistant_n)\n",
    "display(response_dict_n)"
   ]
  },
  {
   "cell_type": "code",
   "execution_count": 35,
   "id": "835772ad-380d-4ca7-842e-a0f385d8fdce",
   "metadata": {},
   "outputs": [
    {
     "data": {
      "text/plain": [
       "dict"
      ]
     },
     "execution_count": 35,
     "metadata": {},
     "output_type": "execute_result"
    }
   ],
   "source": [
    "type(response_dict_n)"
   ]
  },
  {
   "cell_type": "code",
   "execution_count": 36,
   "id": "51962ae5-7f1a-4142-b256-48226054281f",
   "metadata": {},
   "outputs": [],
   "source": [
    "debug_response_assistant_n = f\"\"\"Thank you for providing your preferences.\n",
    "Based on your price range, I will consider this while recommending suitable restraurant options for you.\n",
    "Here is the final recommendation for your restraurant:\n",
    "- City: New York\n",
    "- Price range: high\n",
    "- Aggregrate rating: high\n",
    "- Has Table booking: Yes\n",
    "- Votes: medium\n",
    "- Cuisines: Indian\n",
    "\n",
    "Please note that these specifications are based on your requirements for surfing and a decent display within your budget.\n",
    "Let me know if there's anything else I can assist you with!\"\"\""
   ]
  },
  {
   "cell_type": "code",
   "execution_count": 37,
   "id": "2fd318d6-97ac-4d01-9b06-8a62772861b7",
   "metadata": {},
   "outputs": [
    {
     "data": {
      "text/plain": [
       "{'City': 'New York',\n",
       " 'Price range': 'high',\n",
       " 'Aggregrate rating': 'high',\n",
       " 'Has Table booking': 'Yes',\n",
       " 'Votes': 'medium',\n",
       " 'Cuisines': 'Indian'}"
      ]
     },
     "metadata": {},
     "output_type": "display_data"
    }
   ],
   "source": [
    "response_dict_n = dictionary_present(debug_response_assistant_n)\n",
    "display(response_dict_n)"
   ]
  },
  {
   "cell_type": "code",
   "execution_count": 38,
   "id": "9aeccdfd-769c-46b6-b1a8-603350e630ad",
   "metadata": {},
   "outputs": [
    {
     "data": {
      "text/plain": [
       "dict"
      ]
     },
     "execution_count": 38,
     "metadata": {},
     "output_type": "execute_result"
    }
   ],
   "source": [
    "type(response_dict_n)"
   ]
  },
  {
   "cell_type": "code",
   "execution_count": 39,
   "id": "720a6b84-cac3-43e9-a167-0f14bd9417b4",
   "metadata": {},
   "outputs": [
    {
     "name": "stdout",
     "output_type": "stream",
     "text": [
      "Iteration: 0\n",
      "{'City': 'New York', 'Price range': 'high', 'Aggregrate rating': 'high', 'Has Table booking': 'Yes', 'Votes': 'medium', 'Cuisines': 'Indian'}\n",
      "--------------------------------------------------\n",
      "Iteration: 1\n",
      "{'City': 'New York', 'Price range': 'high', 'Aggregrate rating': 'high', 'Has Table booking': 'Yes', 'Votes': 'medium', 'Cuisines': 'Indian'}\n",
      "--------------------------------------------------\n",
      "Iteration: 2\n",
      "{'City': 'New York', 'Price range': 'high', 'Aggregrate rating': 'high', 'Has Table booking': 'Yes', 'Votes': 'medium', 'Cuisines': 'Indian'}\n",
      "--------------------------------------------------\n",
      "Iteration: 3\n",
      "{'City': 'New York', 'Price range': 'high', 'Aggregrate rating': 'high', 'Has Table booking': 'Yes', 'Votes': 'medium', 'Cuisines': 'Indian'}\n",
      "--------------------------------------------------\n",
      "Iteration: 4\n",
      "{'City': 'New York', 'Price range': 'high', 'Aggregrate rating': 'high', 'Has Table booking': 'Yes', 'Votes': 'medium', 'Cuisines': 'Indian'}\n",
      "--------------------------------------------------\n",
      "Iteration: 5\n",
      "{'City': 'New York', 'Price range': 'high', 'Aggregrate rating': 'high', 'Has Table booking': 'Yes', 'Votes': 'medium', 'Cuisines': 'Indian'}\n",
      "--------------------------------------------------\n",
      "Iteration: 6\n",
      "{'City': 'New York', 'Price range': 'high', 'Aggregrate rating': 'high', 'Has Table booking': 'Yes', 'Votes': 'medium', 'Cuisines': 'Indian'}\n",
      "--------------------------------------------------\n",
      "Iteration: 7\n",
      "{'City': 'New York', 'Price range': 'high', 'Aggregrate rating': 'high', 'Has Table booking': 'Yes', 'Votes': 'medium', 'Cuisines': 'Indian'}\n",
      "--------------------------------------------------\n",
      "Iteration: 8\n",
      "{'City': 'New York', 'Price range': 'high', 'Aggregrate rating': 'high', 'Has Table booking': 'Yes', 'Votes': 'medium', 'Cuisines': 'Indian'}\n",
      "--------------------------------------------------\n",
      "Iteration: 9\n",
      "{'City': 'New York', 'Price range': 'high', 'Aggregrate rating': 'high', 'Has Table booking': 'Yes', 'Votes': 'medium', 'Cuisines': 'Indian'}\n",
      "--------------------------------------------------\n"
     ]
    }
   ],
   "source": [
    "# Check for LLM function's consistency\n",
    "iterate_llm_response(dictionary_present, debug_response_assistant_n)"
   ]
  },
  {
   "cell_type": "code",
   "execution_count": 40,
   "id": "e0ab50fa-a21a-43be-b630-48ef816625a2",
   "metadata": {},
   "outputs": [
    {
     "data": {
      "text/plain": [
       "[{'role': 'system',\n",
       "  'content': '\\n    You are an intelligent restraurant reccomender and your goal is to find the best restraurant for user.\\n    You need to ask relevant questions and understand the user profile by analysing the user\\'s responses.\\n    You final objective is to fill the values for the different keys (\\'City\\',\\'Price range\\',\\'Aggregate rating\\',\\'Votes\\',\\'Has Table booking\\',\\'Cuisines\\') in the python dictionary and be confident of the values.\\n    These key value pairs define the user\\'s profile.\\n    The python dictionary looks like this\\n    {\\'City\\': \\'values\\',\\'Price range\\':\\'values\\', \\'Aggregate rating\\',\\'Votes\\': \\'values\\',\\'Has Table booking\\': \\'values\\',\\'Cuisines\\'}\\n    The values for all keys , should be \\'low\\', \\'medium\\', or \\'high\\' based on the importance of the corresponding keys, as stated by user.\\n    All the values in the example dictionary are only representative values.\\n    ####\\n    Here are some instructions around the values for the different keys. If you do not follow this, you\\'ll be heavily penalised:\\n    - The values for all keys, except \\'City\\' and \\'Cuisines\\', should strictly be either \\'low\\', \\'medium\\', or \\'high\\' based on the importance of the corresponding keys, as stated by user.\\n    - The value for \\'City\\' and \\'Cuisines\\' should be a string value extracted from the user\\'s response.\\n    - Do not randomly assign values to any of the keys.\\n    - The values need to be inferred from the user\\'s response.\\n    ####\\n\\n    To fill the dictionary, you need to have the following chain of thoughts:\\n    Follow the chain-of-thoughts below and only output the final updated python dictionary for the keys as described in {\\'City\\': \\'_\\', \\'Price range\\': \\'_\\', \\'Aggregate rating\\': \\'_\\', \\'Votes\\': \\'_\\', \\'Has Table booking\\': \\'_\\', \\'Cuisines\\': \\'_\\'}. \\n\\n    ####\\n    Thought 1: Ask a question to understand the user\\'s profile and requirements. \\n\\n    If their primary choice of restraurant is unclear. Ask followup questions to understand their needs.\\n    You are trying to fill the values of all the keys {\\'City\\',\\'Price range\\',\\'Aggregate rating\\',\\'Votes\\',\\'Has Table booking\\',\\'Cuisines\\'} in the python dictionary by understanding the user requirements.\\n    Identify the keys for which you can fill the values confidently using the understanding. \\n\\n    Remember the instructions around the values for the different keys.\\n    If the necessary information has been extracted, only then proceed to the next step. \\n\\n    Otherwise, rephrase the question to capture their profile clearly. \\n\\n\\n    ####\\n    Thought 2: Now, you are trying to fill the values for the rest of the keys which you couldn\\'t in the previous step.\\n    Remember the instructions around the values for the different keys.\\n    Ask questions you might have for all the keys to strengthen your understanding of the user\\'s profile.\\n    If yes, move to the next Thought. If no, ask question on the keys whose values you are unsure of. \\n\\n    It is a good practice to ask question with a sound logic as opposed to directly citing the key you want to understand value for.\\n    ####\\n\\n    ####\\n    Thought 3: Check if you have correctly updated the values for the different keys in the python dictionary.\\n    If you are not confident about any of the values, ask clarifying questions.\\n    ####\\n\\n    ####\\n    Here is a sample conversation between the user and assistant:\\n    User: \"Hi, I am Ritik I want to visit restraurant in New York .\"\\n    Assistant: \"Great choice, Ritik! New York is known for its amazing culinary scene. To help you find the perfect restaurant, could you please tell me how important the following factors are to you - price range, aggregate rating, number of votes, and whether the restaurant has table booking?\"\\n    User: \"Basically a Restraurant with Table Bookings\"\\n    Assistant: \"Thank you for providing that information.What will be youe cuisnes prefereance \"\\n    User: \"I will go with indian food.\"\\n    Assistant: \"Thank you for the information.Can you let me know your budget price for the restraurant.\"\\n    User: \"Nothing more than $10.\"\\n    Assistant:\"Can You Please let me know if you have preference for rating or up votes.\"\\n    User: \"Any rating above 4 is good and with som 500 above up votes.\"\\n    Assistant: \"{\\'City\\': \\'New York\\', \\'Price range\\': \\'6\\', \\'Aggregate rating\\': \\'low\\', \\'Votes\\': \\'high\\', \\'Has Table booking\\': \\'Yes\\', \\'Cuisines\\': \\'Indian\\'}\"\\n    ####\\n\\n    Start with a short welcome message and encourage the user to share their requirements.\\n    '},\n",
       " {'role': 'user',\n",
       "  'content': 'Hi, I am Ritik. I want to go to a restraurant in New York.'},\n",
       " {'role': 'system',\n",
       "  'content': 'Great choice, Ritik! New York is known for its amazing culinary scene. To help you find the perfect restaurant, could you please tell me how important the following factors are to you - price range, aggregate rating, number of votes, and whether the restaurant has table booking?'},\n",
       " {'role': 'assistant',\n",
       "  'content': 'Great choice, Ritik! New York is known for its amazing culinary scene. To help you find the perfect restaurant, could you please tell me how important the following factors are to you - price range, aggregate rating, number of votes, and whether the restaurant has table booking?'}]"
      ]
     },
     "execution_count": 40,
     "metadata": {},
     "output_type": "execute_result"
    }
   ],
   "source": [
    "debug_conversation"
   ]
  },
  {
   "cell_type": "code",
   "execution_count": 41,
   "id": "4341319a-2b63-4db8-bb15-da14da57f498",
   "metadata": {},
   "outputs": [
    {
     "name": "stdout",
     "output_type": "stream",
     "text": [
      "{'City': 'New York', 'Price range': 'high', 'Aggregrate rating': 'high', 'Has Table booking': 'Yes', 'Votes': 'medium', 'Cuisines': 'Indian'}\n"
     ]
    }
   ],
   "source": [
    "debug_conversation = initialize_conversation()\n",
    "debug_user_input = \"Hi, I am Ritik. I want to go to a restraurant in New York.\"\n",
    "debug_moderation = moderation_check(debug_user_input)\n",
    "debug_conversation.append({\"role\": \"user\", \"content\": debug_user_input})\n",
    "debug_response_assistant = get_chat_completions(debug_conversation)\n",
    "debug_moderation = moderation_check(debug_response_assistant)\n",
    "debug_conversation.append({\"role\": \"assistant\", \"content\": debug_response_assistant})\n",
    "debug_confirmation = intent_confirmation_layer(debug_response_assistant)\n",
    "# After a series of conversation...\n",
    "response_dict_n = dictionary_present(debug_response_assistant_n)\n",
    "print(response_dict_n)"
   ]
  },
  {
   "cell_type": "markdown",
   "id": "deb257dd-8078-44ad-a0ff-057852fe6b2c",
   "metadata": {},
   "source": [
    "## Stage 2\n",
    "Stage 2 Flowchart\n",
    "\n",
    "3.3 Implementing the Product Mapping and Information Extraction Layers\n",
    "In this section, we take in the output of the previous layers, i.e. the user requirements, which is in the format of a Python dictionary.\n",
    "Next we will extract the top 3 restraurant recommendations based on user's requirements.\n",
    "\n",
    "This stage consists of the following helper functions that will implement the information extraction and product matching layers.\n",
    "\n",
    "- product_map_layer():\n",
    "This function is responsible for extracting key features and criteria from restraurant descriptions. Here's a breakdown of how it works:\n",
    "\n",
    "- Use a prompt that assign it the role of a restraurant Specifications Classifier, whose objective is to extract key features and classify them based on restraurant descriptions.\n",
    "\n",
    "- Provide step-by-step instructions for extracting restraurant features from description.\n",
    "\n",
    "- Assign specific rules for each feature (e.g., City, Pricee range, Aggregrate rating, Has Table booking, Cuisines ) and associate them with the appropriate classification value (Low, Medium, or High).\n",
    "\n",
    "- Includes Few Shot Prompting (sample conversation between the user and assistant) to demonstrate the expected result of the feature extraction and classification process."
   ]
  },
  {
   "cell_type": "code",
   "execution_count": 42,
   "id": "852afd0e-a2d4-4ec2-9e86-fa9c99decddd",
   "metadata": {},
   "outputs": [],
   "source": [
    "def product_map_layer(subset_df):\n",
    "    delimiter = \"#####\"\n",
    "\n",
    "    res_spec = {\n",
    "        \"City\":\"(Name of a city)\",\n",
    "        \"Price range\":\"(Price range of restraurant)\",\n",
    "        \"Aggregrate \":\"(Rating)\",\n",
    "        \"Has Table booking\":\"(Yes or No Values)\",\n",
    "        \"Votes\":\"(Votes received)\",\n",
    "        \"Cuisines\":\"(French, Japanese, Desserts,Indain,etc)\"\n",
    "    }\n",
    "\n",
    "    values = {'low','medium','high'}\n",
    "\n",
    "    prompt=f\"\"\"\n",
    "    You are a Restraurant Classifier whose job is to extract the key features of restraurants and classify them as per their requirements.\n",
    "    To analyze each restraurant, perform the following steps:\n",
    "    Step 1: Extract the Restraurant Primary featues from user input.\n",
    "    Step 2: Store the extracted features in {res_spec} \\\n",
    "    Step 3: Classify each of the items in {res_spec} into {values} based on the following rules: \\\n",
    "    {delimiter}\n",
    "    City:\n",
    "    - Name : Should be a name of a city.\n",
    "\n",
    "    Price range:\n",
    "    - low: <<< if price is below 5 (e.g. 3)>>> , \\n\n",
    "    - medium: <<< if price is above 5 or lower than 10 (e.g. 7) >>> , \\n\n",
    "    - high: <<< if price is above 10 (e.g. 12) >>> \\n\n",
    "\n",
    "    Aggregrate Rating:\n",
    "    - high: <<< if rating is lower than 2.5 (e.g. 2) >>> , \\n\n",
    "    - medium: <<< if rating is between 2.5 and 4 >>> , \\n\n",
    "    - low: <<< if rating is above 4 >>> \\n\n",
    "\n",
    "    Has Table booking :\n",
    "    - Yes: <<< If restraurant has table booking service >>> , \\n\n",
    "    - No: <<< if restraurant don't have table booking service >>> , \\n\n",
    "    \n",
    "    Votes:\n",
    "    - low: <<< if votes are below 500 >>> , \\n\n",
    "    - medium: <<< if votes are between 500 and 750 >>> , \\n\n",
    "    - high: <<< if votes are above 1000 >>> \\n\n",
    "    {delimiter}\n",
    "\n",
    "    \n",
    "    {delimiter}\n",
    "    ### Strictly don't keep any other text in the values of the JSON dictionary other than low or medium or high ###\n",
    "    \"\"\"\n",
    "    input = f\"\"\"Follow the above instructions step-by-step and output the dictionary in JSON format {res_spec} for the following restraurant {subset_df}.\"\"\"\n",
    "    #see that we are using the Completion endpoint and not the Chatcompletion endpoint\n",
    "    messages=[{\"role\": \"system\", \"content\":prompt },{\"role\": \"user\",\"content\":input}]\n",
    "\n",
    "    response = get_chat_completions(messages, json_format = True)\n",
    "\n",
    "    return response"
   ]
  },
  {
   "cell_type": "code",
   "execution_count": 43,
   "id": "034fd7e0",
   "metadata": {},
   "outputs": [
    {
     "data": {
      "text/html": [
       "<div>\n",
       "<style scoped>\n",
       "    .dataframe tbody tr th:only-of-type {\n",
       "        vertical-align: middle;\n",
       "    }\n",
       "\n",
       "    .dataframe tbody tr th {\n",
       "        vertical-align: top;\n",
       "    }\n",
       "\n",
       "    .dataframe thead th {\n",
       "        text-align: right;\n",
       "    }\n",
       "</style>\n",
       "<table border=\"1\" class=\"dataframe\">\n",
       "  <thead>\n",
       "    <tr style=\"text-align: right;\">\n",
       "      <th></th>\n",
       "      <th>City</th>\n",
       "      <th>Price range</th>\n",
       "      <th>Aggregate rating</th>\n",
       "      <th>Has Table booking</th>\n",
       "      <th>Votes</th>\n",
       "      <th>Cuisines</th>\n",
       "    </tr>\n",
       "  </thead>\n",
       "  <tbody>\n",
       "    <tr>\n",
       "      <th>0</th>\n",
       "      <td>Makati City</td>\n",
       "      <td>3</td>\n",
       "      <td>4.8</td>\n",
       "      <td>Yes</td>\n",
       "      <td>314</td>\n",
       "      <td>French, Japanese, Desserts</td>\n",
       "    </tr>\n",
       "    <tr>\n",
       "      <th>1</th>\n",
       "      <td>Makati City</td>\n",
       "      <td>3</td>\n",
       "      <td>4.5</td>\n",
       "      <td>Yes</td>\n",
       "      <td>591</td>\n",
       "      <td>Japanese</td>\n",
       "    </tr>\n",
       "    <tr>\n",
       "      <th>2</th>\n",
       "      <td>Mandaluyong City</td>\n",
       "      <td>4</td>\n",
       "      <td>4.4</td>\n",
       "      <td>Yes</td>\n",
       "      <td>270</td>\n",
       "      <td>Seafood, Asian, Filipino, Indian</td>\n",
       "    </tr>\n",
       "    <tr>\n",
       "      <th>3</th>\n",
       "      <td>Mandaluyong City</td>\n",
       "      <td>4</td>\n",
       "      <td>4.9</td>\n",
       "      <td>No</td>\n",
       "      <td>365</td>\n",
       "      <td>Japanese, Sushi</td>\n",
       "    </tr>\n",
       "    <tr>\n",
       "      <th>4</th>\n",
       "      <td>Mandaluyong City</td>\n",
       "      <td>4</td>\n",
       "      <td>4.8</td>\n",
       "      <td>Yes</td>\n",
       "      <td>229</td>\n",
       "      <td>Japanese, Korean</td>\n",
       "    </tr>\n",
       "  </tbody>\n",
       "</table>\n",
       "</div>"
      ],
      "text/plain": [
       "               City  Price range  Aggregate rating Has Table booking  Votes  \\\n",
       "0       Makati City            3               4.8               Yes    314   \n",
       "1       Makati City            3               4.5               Yes    591   \n",
       "2  Mandaluyong City            4               4.4               Yes    270   \n",
       "3  Mandaluyong City            4               4.9                No    365   \n",
       "4  Mandaluyong City            4               4.8               Yes    229   \n",
       "\n",
       "                           Cuisines  \n",
       "0        French, Japanese, Desserts  \n",
       "1                          Japanese  \n",
       "2  Seafood, Asian, Filipino, Indian  \n",
       "3                   Japanese, Sushi  \n",
       "4                  Japanese, Korean  "
      ]
     },
     "execution_count": 43,
     "metadata": {},
     "output_type": "execute_result"
    }
   ],
   "source": [
    "subset_df = df.filter(['City', 'Price range', 'Aggregate rating', 'Has Table booking', 'Votes', 'Cuisines'])\n",
    "subset_df.head(5)"
   ]
  },
  {
   "cell_type": "code",
   "execution_count": 44,
   "id": "4361f796",
   "metadata": {},
   "outputs": [],
   "source": [
    "def classify_price(df, column_name):\n",
    "    \"\"\"\n",
    "    Classify values in a specific column of a DataFrame based on the price.\n",
    "\n",
    "    Parameters:\n",
    "    df (pd.DataFrame): DataFrame containing the data.\n",
    "    column_name (str): The name of the column to classify.\n",
    "\n",
    "    Returns:\n",
    "    pd.DataFrame: DataFrame with an additional column 'Price Category' indicating the classification.\n",
    "    \"\"\"\n",
    "    # Define the classification function\n",
    "    def classify(value):\n",
    "        if value < 5:\n",
    "            return 'low'\n",
    "        elif 5 <= value < 10:\n",
    "            return 'medium'\n",
    "        else:\n",
    "            return 'high'\n",
    "\n",
    "    # Apply the classification function to the specified column\n",
    "    df['Price range'] = df['Price range'].apply(classify)\n",
    "\n",
    "    return df\n"
   ]
  },
  {
   "cell_type": "code",
   "execution_count": 45,
   "id": "d9ca5096",
   "metadata": {},
   "outputs": [
    {
     "data": {
      "text/html": [
       "<div>\n",
       "<style scoped>\n",
       "    .dataframe tbody tr th:only-of-type {\n",
       "        vertical-align: middle;\n",
       "    }\n",
       "\n",
       "    .dataframe tbody tr th {\n",
       "        vertical-align: top;\n",
       "    }\n",
       "\n",
       "    .dataframe thead th {\n",
       "        text-align: right;\n",
       "    }\n",
       "</style>\n",
       "<table border=\"1\" class=\"dataframe\">\n",
       "  <thead>\n",
       "    <tr style=\"text-align: right;\">\n",
       "      <th></th>\n",
       "      <th>Restaurant ID</th>\n",
       "      <th>Restaurant Name</th>\n",
       "      <th>Country Code</th>\n",
       "      <th>City</th>\n",
       "      <th>Address</th>\n",
       "      <th>Locality</th>\n",
       "      <th>Locality Verbose</th>\n",
       "      <th>Longitude</th>\n",
       "      <th>Latitude</th>\n",
       "      <th>Cuisines</th>\n",
       "      <th>...</th>\n",
       "      <th>Currency</th>\n",
       "      <th>Has Table booking</th>\n",
       "      <th>Has Online delivery</th>\n",
       "      <th>Is delivering now</th>\n",
       "      <th>Switch to order menu</th>\n",
       "      <th>Price range</th>\n",
       "      <th>Aggregate rating</th>\n",
       "      <th>Rating color</th>\n",
       "      <th>Rating text</th>\n",
       "      <th>Votes</th>\n",
       "    </tr>\n",
       "  </thead>\n",
       "  <tbody>\n",
       "    <tr>\n",
       "      <th>0</th>\n",
       "      <td>6317637</td>\n",
       "      <td>Le Petit Souffle</td>\n",
       "      <td>162</td>\n",
       "      <td>Makati City</td>\n",
       "      <td>Third Floor, Century City Mall, Kalayaan Avenu...</td>\n",
       "      <td>Century City Mall, Poblacion, Makati City</td>\n",
       "      <td>Century City Mall, Poblacion, Makati City, Mak...</td>\n",
       "      <td>121.027535</td>\n",
       "      <td>14.565443</td>\n",
       "      <td>French, Japanese, Desserts</td>\n",
       "      <td>...</td>\n",
       "      <td>Botswana Pula(P)</td>\n",
       "      <td>Yes</td>\n",
       "      <td>No</td>\n",
       "      <td>No</td>\n",
       "      <td>No</td>\n",
       "      <td>low</td>\n",
       "      <td>4.8</td>\n",
       "      <td>Dark Green</td>\n",
       "      <td>Excellent</td>\n",
       "      <td>314</td>\n",
       "    </tr>\n",
       "    <tr>\n",
       "      <th>1</th>\n",
       "      <td>6304287</td>\n",
       "      <td>Izakaya Kikufuji</td>\n",
       "      <td>162</td>\n",
       "      <td>Makati City</td>\n",
       "      <td>Little Tokyo, 2277 Chino Roces Avenue, Legaspi...</td>\n",
       "      <td>Little Tokyo, Legaspi Village, Makati City</td>\n",
       "      <td>Little Tokyo, Legaspi Village, Makati City, Ma...</td>\n",
       "      <td>121.014101</td>\n",
       "      <td>14.553708</td>\n",
       "      <td>Japanese</td>\n",
       "      <td>...</td>\n",
       "      <td>Botswana Pula(P)</td>\n",
       "      <td>Yes</td>\n",
       "      <td>No</td>\n",
       "      <td>No</td>\n",
       "      <td>No</td>\n",
       "      <td>low</td>\n",
       "      <td>4.5</td>\n",
       "      <td>Dark Green</td>\n",
       "      <td>Excellent</td>\n",
       "      <td>591</td>\n",
       "    </tr>\n",
       "    <tr>\n",
       "      <th>2</th>\n",
       "      <td>6300002</td>\n",
       "      <td>Heat - Edsa Shangri-La</td>\n",
       "      <td>162</td>\n",
       "      <td>Mandaluyong City</td>\n",
       "      <td>Edsa Shangri-La, 1 Garden Way, Ortigas, Mandal...</td>\n",
       "      <td>Edsa Shangri-La, Ortigas, Mandaluyong City</td>\n",
       "      <td>Edsa Shangri-La, Ortigas, Mandaluyong City, Ma...</td>\n",
       "      <td>121.056831</td>\n",
       "      <td>14.581404</td>\n",
       "      <td>Seafood, Asian, Filipino, Indian</td>\n",
       "      <td>...</td>\n",
       "      <td>Botswana Pula(P)</td>\n",
       "      <td>Yes</td>\n",
       "      <td>No</td>\n",
       "      <td>No</td>\n",
       "      <td>No</td>\n",
       "      <td>low</td>\n",
       "      <td>4.4</td>\n",
       "      <td>Green</td>\n",
       "      <td>Very Good</td>\n",
       "      <td>270</td>\n",
       "    </tr>\n",
       "    <tr>\n",
       "      <th>3</th>\n",
       "      <td>6318506</td>\n",
       "      <td>Ooma</td>\n",
       "      <td>162</td>\n",
       "      <td>Mandaluyong City</td>\n",
       "      <td>Third Floor, Mega Fashion Hall, SM Megamall, O...</td>\n",
       "      <td>SM Megamall, Ortigas, Mandaluyong City</td>\n",
       "      <td>SM Megamall, Ortigas, Mandaluyong City, Mandal...</td>\n",
       "      <td>121.056475</td>\n",
       "      <td>14.585318</td>\n",
       "      <td>Japanese, Sushi</td>\n",
       "      <td>...</td>\n",
       "      <td>Botswana Pula(P)</td>\n",
       "      <td>No</td>\n",
       "      <td>No</td>\n",
       "      <td>No</td>\n",
       "      <td>No</td>\n",
       "      <td>low</td>\n",
       "      <td>4.9</td>\n",
       "      <td>Dark Green</td>\n",
       "      <td>Excellent</td>\n",
       "      <td>365</td>\n",
       "    </tr>\n",
       "    <tr>\n",
       "      <th>4</th>\n",
       "      <td>6314302</td>\n",
       "      <td>Sambo Kojin</td>\n",
       "      <td>162</td>\n",
       "      <td>Mandaluyong City</td>\n",
       "      <td>Third Floor, Mega Atrium, SM Megamall, Ortigas...</td>\n",
       "      <td>SM Megamall, Ortigas, Mandaluyong City</td>\n",
       "      <td>SM Megamall, Ortigas, Mandaluyong City, Mandal...</td>\n",
       "      <td>121.057508</td>\n",
       "      <td>14.584450</td>\n",
       "      <td>Japanese, Korean</td>\n",
       "      <td>...</td>\n",
       "      <td>Botswana Pula(P)</td>\n",
       "      <td>Yes</td>\n",
       "      <td>No</td>\n",
       "      <td>No</td>\n",
       "      <td>No</td>\n",
       "      <td>low</td>\n",
       "      <td>4.8</td>\n",
       "      <td>Dark Green</td>\n",
       "      <td>Excellent</td>\n",
       "      <td>229</td>\n",
       "    </tr>\n",
       "    <tr>\n",
       "      <th>...</th>\n",
       "      <td>...</td>\n",
       "      <td>...</td>\n",
       "      <td>...</td>\n",
       "      <td>...</td>\n",
       "      <td>...</td>\n",
       "      <td>...</td>\n",
       "      <td>...</td>\n",
       "      <td>...</td>\n",
       "      <td>...</td>\n",
       "      <td>...</td>\n",
       "      <td>...</td>\n",
       "      <td>...</td>\n",
       "      <td>...</td>\n",
       "      <td>...</td>\n",
       "      <td>...</td>\n",
       "      <td>...</td>\n",
       "      <td>...</td>\n",
       "      <td>...</td>\n",
       "      <td>...</td>\n",
       "      <td>...</td>\n",
       "      <td>...</td>\n",
       "    </tr>\n",
       "    <tr>\n",
       "      <th>9546</th>\n",
       "      <td>5915730</td>\n",
       "      <td>Naml۱ Gurme</td>\n",
       "      <td>208</td>\n",
       "      <td>��stanbul</td>\n",
       "      <td>Kemanke�� Karamustafa Pa��a Mahallesi, R۱ht۱m ...</td>\n",
       "      <td>Karak�_y</td>\n",
       "      <td>Karak�_y, ��stanbul</td>\n",
       "      <td>28.977392</td>\n",
       "      <td>41.022793</td>\n",
       "      <td>Turkish</td>\n",
       "      <td>...</td>\n",
       "      <td>Turkish Lira(TL)</td>\n",
       "      <td>No</td>\n",
       "      <td>No</td>\n",
       "      <td>No</td>\n",
       "      <td>No</td>\n",
       "      <td>low</td>\n",
       "      <td>4.1</td>\n",
       "      <td>Green</td>\n",
       "      <td>Very Good</td>\n",
       "      <td>788</td>\n",
       "    </tr>\n",
       "    <tr>\n",
       "      <th>9547</th>\n",
       "      <td>5908749</td>\n",
       "      <td>Ceviz A��ac۱</td>\n",
       "      <td>208</td>\n",
       "      <td>��stanbul</td>\n",
       "      <td>Ko��uyolu Mahallesi, Muhittin ��st�_nda�� Cadd...</td>\n",
       "      <td>Ko��uyolu</td>\n",
       "      <td>Ko��uyolu, ��stanbul</td>\n",
       "      <td>29.041297</td>\n",
       "      <td>41.009847</td>\n",
       "      <td>World Cuisine, Patisserie, Cafe</td>\n",
       "      <td>...</td>\n",
       "      <td>Turkish Lira(TL)</td>\n",
       "      <td>No</td>\n",
       "      <td>No</td>\n",
       "      <td>No</td>\n",
       "      <td>No</td>\n",
       "      <td>low</td>\n",
       "      <td>4.2</td>\n",
       "      <td>Green</td>\n",
       "      <td>Very Good</td>\n",
       "      <td>1034</td>\n",
       "    </tr>\n",
       "    <tr>\n",
       "      <th>9548</th>\n",
       "      <td>5915807</td>\n",
       "      <td>Huqqa</td>\n",
       "      <td>208</td>\n",
       "      <td>��stanbul</td>\n",
       "      <td>Kuru�_e��me Mahallesi, Muallim Naci Caddesi, N...</td>\n",
       "      <td>Kuru�_e��me</td>\n",
       "      <td>Kuru�_e��me, ��stanbul</td>\n",
       "      <td>29.034640</td>\n",
       "      <td>41.055817</td>\n",
       "      <td>Italian, World Cuisine</td>\n",
       "      <td>...</td>\n",
       "      <td>Turkish Lira(TL)</td>\n",
       "      <td>No</td>\n",
       "      <td>No</td>\n",
       "      <td>No</td>\n",
       "      <td>No</td>\n",
       "      <td>low</td>\n",
       "      <td>3.7</td>\n",
       "      <td>Yellow</td>\n",
       "      <td>Good</td>\n",
       "      <td>661</td>\n",
       "    </tr>\n",
       "    <tr>\n",
       "      <th>9549</th>\n",
       "      <td>5916112</td>\n",
       "      <td>A���k Kahve</td>\n",
       "      <td>208</td>\n",
       "      <td>��stanbul</td>\n",
       "      <td>Kuru�_e��me Mahallesi, Muallim Naci Caddesi, N...</td>\n",
       "      <td>Kuru�_e��me</td>\n",
       "      <td>Kuru�_e��me, ��stanbul</td>\n",
       "      <td>29.036019</td>\n",
       "      <td>41.057979</td>\n",
       "      <td>Restaurant Cafe</td>\n",
       "      <td>...</td>\n",
       "      <td>Turkish Lira(TL)</td>\n",
       "      <td>No</td>\n",
       "      <td>No</td>\n",
       "      <td>No</td>\n",
       "      <td>No</td>\n",
       "      <td>low</td>\n",
       "      <td>4.0</td>\n",
       "      <td>Green</td>\n",
       "      <td>Very Good</td>\n",
       "      <td>901</td>\n",
       "    </tr>\n",
       "    <tr>\n",
       "      <th>9550</th>\n",
       "      <td>5927402</td>\n",
       "      <td>Walter's Coffee Roastery</td>\n",
       "      <td>208</td>\n",
       "      <td>��stanbul</td>\n",
       "      <td>Cafea��a Mahallesi, Bademalt۱ Sokak, No 21/B, ...</td>\n",
       "      <td>Moda</td>\n",
       "      <td>Moda, ��stanbul</td>\n",
       "      <td>29.026016</td>\n",
       "      <td>40.984776</td>\n",
       "      <td>Cafe</td>\n",
       "      <td>...</td>\n",
       "      <td>Turkish Lira(TL)</td>\n",
       "      <td>No</td>\n",
       "      <td>No</td>\n",
       "      <td>No</td>\n",
       "      <td>No</td>\n",
       "      <td>low</td>\n",
       "      <td>4.0</td>\n",
       "      <td>Green</td>\n",
       "      <td>Very Good</td>\n",
       "      <td>591</td>\n",
       "    </tr>\n",
       "  </tbody>\n",
       "</table>\n",
       "<p>9551 rows × 21 columns</p>\n",
       "</div>"
      ],
      "text/plain": [
       "      Restaurant ID           Restaurant Name  Country Code              City  \\\n",
       "0           6317637          Le Petit Souffle           162       Makati City   \n",
       "1           6304287          Izakaya Kikufuji           162       Makati City   \n",
       "2           6300002    Heat - Edsa Shangri-La           162  Mandaluyong City   \n",
       "3           6318506                      Ooma           162  Mandaluyong City   \n",
       "4           6314302               Sambo Kojin           162  Mandaluyong City   \n",
       "...             ...                       ...           ...               ...   \n",
       "9546        5915730               Naml۱ Gurme           208         ��stanbul   \n",
       "9547        5908749              Ceviz A��ac۱           208         ��stanbul   \n",
       "9548        5915807                     Huqqa           208         ��stanbul   \n",
       "9549        5916112               A���k Kahve           208         ��stanbul   \n",
       "9550        5927402  Walter's Coffee Roastery           208         ��stanbul   \n",
       "\n",
       "                                                Address  \\\n",
       "0     Third Floor, Century City Mall, Kalayaan Avenu...   \n",
       "1     Little Tokyo, 2277 Chino Roces Avenue, Legaspi...   \n",
       "2     Edsa Shangri-La, 1 Garden Way, Ortigas, Mandal...   \n",
       "3     Third Floor, Mega Fashion Hall, SM Megamall, O...   \n",
       "4     Third Floor, Mega Atrium, SM Megamall, Ortigas...   \n",
       "...                                                 ...   \n",
       "9546  Kemanke�� Karamustafa Pa��a Mahallesi, R۱ht۱m ...   \n",
       "9547  Ko��uyolu Mahallesi, Muhittin ��st�_nda�� Cadd...   \n",
       "9548  Kuru�_e��me Mahallesi, Muallim Naci Caddesi, N...   \n",
       "9549  Kuru�_e��me Mahallesi, Muallim Naci Caddesi, N...   \n",
       "9550  Cafea��a Mahallesi, Bademalt۱ Sokak, No 21/B, ...   \n",
       "\n",
       "                                        Locality  \\\n",
       "0      Century City Mall, Poblacion, Makati City   \n",
       "1     Little Tokyo, Legaspi Village, Makati City   \n",
       "2     Edsa Shangri-La, Ortigas, Mandaluyong City   \n",
       "3         SM Megamall, Ortigas, Mandaluyong City   \n",
       "4         SM Megamall, Ortigas, Mandaluyong City   \n",
       "...                                          ...   \n",
       "9546                                    Karak�_y   \n",
       "9547                                   Ko��uyolu   \n",
       "9548                                 Kuru�_e��me   \n",
       "9549                                 Kuru�_e��me   \n",
       "9550                                        Moda   \n",
       "\n",
       "                                       Locality Verbose   Longitude   Latitude  \\\n",
       "0     Century City Mall, Poblacion, Makati City, Mak...  121.027535  14.565443   \n",
       "1     Little Tokyo, Legaspi Village, Makati City, Ma...  121.014101  14.553708   \n",
       "2     Edsa Shangri-La, Ortigas, Mandaluyong City, Ma...  121.056831  14.581404   \n",
       "3     SM Megamall, Ortigas, Mandaluyong City, Mandal...  121.056475  14.585318   \n",
       "4     SM Megamall, Ortigas, Mandaluyong City, Mandal...  121.057508  14.584450   \n",
       "...                                                 ...         ...        ...   \n",
       "9546                                Karak�_y, ��stanbul   28.977392  41.022793   \n",
       "9547                               Ko��uyolu, ��stanbul   29.041297  41.009847   \n",
       "9548                             Kuru�_e��me, ��stanbul   29.034640  41.055817   \n",
       "9549                             Kuru�_e��me, ��stanbul   29.036019  41.057979   \n",
       "9550                                    Moda, ��stanbul   29.026016  40.984776   \n",
       "\n",
       "                              Cuisines  ...          Currency Has Table booking  \\\n",
       "0           French, Japanese, Desserts  ...  Botswana Pula(P)               Yes   \n",
       "1                             Japanese  ...  Botswana Pula(P)               Yes   \n",
       "2     Seafood, Asian, Filipino, Indian  ...  Botswana Pula(P)               Yes   \n",
       "3                      Japanese, Sushi  ...  Botswana Pula(P)                No   \n",
       "4                     Japanese, Korean  ...  Botswana Pula(P)               Yes   \n",
       "...                                ...  ...               ...               ...   \n",
       "9546                           Turkish  ...  Turkish Lira(TL)                No   \n",
       "9547   World Cuisine, Patisserie, Cafe  ...  Turkish Lira(TL)                No   \n",
       "9548            Italian, World Cuisine  ...  Turkish Lira(TL)                No   \n",
       "9549                   Restaurant Cafe  ...  Turkish Lira(TL)                No   \n",
       "9550                              Cafe  ...  Turkish Lira(TL)                No   \n",
       "\n",
       "     Has Online delivery Is delivering now Switch to order menu Price range Aggregate rating  \\\n",
       "0                     No                No                   No         low              4.8   \n",
       "1                     No                No                   No         low              4.5   \n",
       "2                     No                No                   No         low              4.4   \n",
       "3                     No                No                   No         low              4.9   \n",
       "4                     No                No                   No         low              4.8   \n",
       "...                  ...               ...                  ...         ...              ...   \n",
       "9546                  No                No                   No         low              4.1   \n",
       "9547                  No                No                   No         low              4.2   \n",
       "9548                  No                No                   No         low              3.7   \n",
       "9549                  No                No                   No         low              4.0   \n",
       "9550                  No                No                   No         low              4.0   \n",
       "\n",
       "      Rating color Rating text Votes  \n",
       "0       Dark Green   Excellent   314  \n",
       "1       Dark Green   Excellent   591  \n",
       "2            Green   Very Good   270  \n",
       "3       Dark Green   Excellent   365  \n",
       "4       Dark Green   Excellent   229  \n",
       "...            ...         ...   ...  \n",
       "9546         Green   Very Good   788  \n",
       "9547         Green   Very Good  1034  \n",
       "9548        Yellow        Good   661  \n",
       "9549         Green   Very Good   901  \n",
       "9550         Green   Very Good   591  \n",
       "\n",
       "[9551 rows x 21 columns]"
      ]
     },
     "execution_count": 45,
     "metadata": {},
     "output_type": "execute_result"
    }
   ],
   "source": [
    "classify_price(df,df['Price range'])"
   ]
  },
  {
   "cell_type": "markdown",
   "id": "251dfcc3-7fd9-4980-bd50-9c1ea9c74135",
   "metadata": {},
   "source": [
    "- compare_restraurants_with_user():\n",
    "\n",
    "This function compares the user's profile with the different restraurants and come back with the top recommendations. It will perform the following steps: - It will take the user requirements dictionary as input - Filter the restraurants based on their price, keeping only the ones within the user's budget. - Calculate a score for each restraurant based on how well it matches the user's requirements. - Sort the restraurants based on their scores in descending order. - Return the top 3 restraurants as a JSON-formatted string."
   ]
  },
  {
   "cell_type": "code",
   "execution_count": 46,
   "id": "e0f8a82a",
   "metadata": {},
   "outputs": [],
   "source": [
    "import pandas as pd  # Importing the pandas library for data manipulation\n",
    "import json\n",
    "def compare_restraurants_with_user(user_req_dict, restraurant_df):\n",
    "    # Ensure user_requirements is a dictionary\n",
    "    if not isinstance(user_req_dict, dict):\n",
    "        return \"Invalid input format. Expected a dictionary.\"\n",
    "\n",
    "    # Extracting the budget value from user_requirements and converting it to an integer\n",
    "    try:\n",
    "        budget_str = user_req_dict.get('Budget', '0').replace(',', '').split()[0]\n",
    "        budget = int(budget_str)\n",
    "    except (ValueError, AttributeError):\n",
    "        return \"Invalid budget format.\"\n",
    "\n",
    "    # Creating a copy of the DataFrame and filtering restraurants based on the budget\n",
    "    filtered_restraurants = restraurant_df.copy()\n",
    "    filtered_restraurants['Price range'] = filtered_restraurants['Price range'].str.replace(',', '').astype(int)\n",
    "    filtered_restraurants = filtered_restraurants[filtered_restraurants['Price range'] <= budget].copy()\n",
    "\n",
    "    # Apply classification to the 'Price range' column\n",
    "    filtered_restraurants = classify_price(filtered_restraurants, 'Price range')\n",
    "\n",
    "    # Mapping string values 'low', 'medium', 'high' to numerical scores 0, 1, 2\n",
    "    mappings = {'low': 0, 'medium': 1, 'high': 2}\n",
    "\n",
    "    # Creating a new column 'Score' in the filtered DataFrame and initializing it to 0\n",
    "    filtered_restraurants['Score'] = 0\n",
    "\n",
    "    # Iterating over each restraurant in the filtered DataFrame to calculate scores based on user requirements\n",
    "    for index, row in filtered_restraurants.iterrows():\n",
    "        score = 0\n",
    "        for key, user_value in user_req_dict.items():\n",
    "            if key == 'Budget':\n",
    "                continue  # Skipping budget comparison\n",
    "\n",
    "            restraurant_value = row.get(key, None)\n",
    "            restraurant_mapping = mappings.get(restraurant_value, -1)\n",
    "            user_mapping = mappings.get(user_value, -1)\n",
    "            if restraurant_mapping >= user_mapping:\n",
    "                score += 1  # Incrementing score if restraurant value meets or exceeds user value\n",
    "\n",
    "        filtered_restraurants.loc[index, 'Score'] = score  # Updating the 'Score' column in the DataFrame\n",
    "\n",
    "    # Sorting restraurants by score in descending order and selecting the top 3 products\n",
    "    top_restraurants = filtered_restraurants.sort_values('Score', ascending=False).head(3)\n",
    "    top_restraurants_json = top_restraurants.to_json(orient='records')  # Converting the top restraurants DataFrame to JSON format\n",
    "\n",
    "    return top_restraurants_json\n"
   ]
  },
  {
   "cell_type": "code",
   "execution_count": 47,
   "id": "5169b2da",
   "metadata": {},
   "outputs": [
    {
     "data": {
      "text/plain": [
       "{'City': 'New York',\n",
       " 'Price range': 'high',\n",
       " 'Aggregrate rating': 'high',\n",
       " 'Has Table booking': 'Yes',\n",
       " 'Votes': 'medium',\n",
       " 'Cuisines': 'Indian'}"
      ]
     },
     "metadata": {},
     "output_type": "display_data"
    },
    {
     "data": {
      "text/plain": [
       "'\\n'"
      ]
     },
     "metadata": {},
     "output_type": "display_data"
    },
    {
     "data": {
      "text/plain": [
       "dict"
      ]
     },
     "metadata": {},
     "output_type": "display_data"
    }
   ],
   "source": [
    "display(response_dict_n, '\\n',type(response_dict_n))"
   ]
  },
  {
   "cell_type": "code",
   "execution_count": 48,
   "id": "6edb7fd2",
   "metadata": {},
   "outputs": [
    {
     "data": {
      "text/plain": [
       "{'City': 'New York',\n",
       " 'Price range': 'high',\n",
       " 'Aggregrate rating': 'high',\n",
       " 'Has Table booking': 'Yes',\n",
       " 'Votes': 'medium',\n",
       " 'Cuisines': 'Indian'}"
      ]
     },
     "execution_count": 48,
     "metadata": {},
     "output_type": "execute_result"
    }
   ],
   "source": [
    "dictionary_present(response_dict_n)"
   ]
  },
  {
   "cell_type": "markdown",
   "id": "e21094b0-1b58-4e18-96a1-5e29d926eff1",
   "metadata": {},
   "source": [
    "**get_res_reccomodation()**:\n",
    "\n",
    "This function compares the user's profile with the different restraurants and come back with the top recommendations. It will perform the following steps: - It will take the user requirements dictionary as input - Filter the restraurants based on their price, keeping only the ones within the user's budget. - Calculate a score for each restraurant based on how well it matches the user's requirements. - Sort the restraurants based on their scores in descending order. - Return the top 3 restraurants as a JSON-formatted string."
   ]
  },
  {
   "cell_type": "code",
   "execution_count": 49,
   "id": "b3cdcfa8",
   "metadata": {},
   "outputs": [],
   "source": [
    "def get_res_reccomodation(user_requirements):\n",
    "    # client = OpenAI(openai.api_key)\n",
    "    user_requirements=response_dict_n\n",
    "    prompt = '''Generate restraurant recommendations in '{City}' city. \n",
    "    We prefer '{Aggregrate rating}' hotels with a budget of '{Price range}' per night. \n",
    "    '''.format(**response_dict_n)\n",
    "\n",
    "    # Notice there's no system message\n",
    "    message = [\n",
    "                {\"role\": \"system\", \"content\": \"You are a helpful assistant.\"},\n",
    "                {\"role\": \"user\", \"content\": prompt}\n",
    "            ]\n",
    "\n",
    "\n",
    "    chat_response = openai.chat.completions.create(\n",
    "        model=\"gpt-3.5-turbo\",\n",
    "        messages=message,\n",
    "        max_tokens=200,\n",
    "        temperature=0.5,\n",
    "        n=1,\n",
    "        stop=None,\n",
    "        frequency_penalty=0,\n",
    "        presence_penalty=0)\n",
    "\n",
    "    return chat_response.choices[0].message.content\n",
    "    \n",
    "   "
   ]
  },
  {
   "cell_type": "code",
   "execution_count": 50,
   "id": "430ff284",
   "metadata": {},
   "outputs": [
    {
     "data": {
      "text/plain": [
       "'Here are some restaurant recommendations in New York City that are located within high-end hotels and offer high-quality dining experiences:\\n\\n1. The Grill at The St. Regis New York - Located in the iconic St. Regis hotel, The Grill offers a sophisticated dining experience with a focus on classic American cuisine.\\n\\n2. Asiate at Mandarin Oriental, New York - Enjoy modern American cuisine with stunning views of Central Park at this upscale restaurant located in the Mandarin Oriental hotel.\\n\\n3. The Polo Bar at The Polo Ralph Lauren - Indulge in classic American fare in a stylish setting at The Polo Bar, located in the luxurious Polo Ralph Lauren flagship store.\\n\\n4. Ai Fiori at The Langham, New York - This Michelin-starred restaurant offers elegant Italian cuisine in a refined setting within The Langham hotel.\\n\\n5. Gabriel Kreuther at The Bryant Park Hotel - Experience contemporary French cuisine with Alsatian influences at Gabriel Kreuther, located in The Bryant Park Hotel.\\n\\nThese restaurants are known for'"
      ]
     },
     "metadata": {},
     "output_type": "display_data"
    }
   ],
   "source": [
    "top_3_restraurants=get_res_reccomodation(response)\n",
    "display(top_3_restraurants)"
   ]
  },
  {
   "cell_type": "code",
   "execution_count": 51,
   "id": "3a33cab8-011e-4997-8b23-02bf4e8c9e6d",
   "metadata": {},
   "outputs": [],
   "source": [
    "# def recommendation_validation(res_recommendation):\n",
    "#     data = res_recommendation\n",
    "#     data1 = []\n",
    "#     for i in range(len(data)):\n",
    "#         if data[i]['Score'] > 2:\n",
    "#             data1.append(data[i])\n",
    "\n",
    "#     return data1"
   ]
  },
  {
   "cell_type": "markdown",
   "id": "eb93eeda",
   "metadata": {},
   "source": [
    "### Stage 3\n",
    "3.4: Product Recommendation Layer\n",
    "Finally, we come to the product recommendation layer. It takes the output from the compare_restraurants_with_user function in the previous layer and provides the recommendations to the user. It has the following steps.\n",
    "\n",
    "- Initialize the conversation for recommendation.\n",
    "- Generate the recommendations and display in a presentable format.\n",
    "- Ask questions basis the recommendations."
   ]
  },
  {
   "cell_type": "code",
   "execution_count": 52,
   "id": "6206f855-7175-4f17-86cc-d343c9eb12b5",
   "metadata": {},
   "outputs": [],
   "source": [
    "def initialize_conv_recommendations(products):\n",
    "    system_message = f\"\"\"\n",
    "    You are an intelligent restraurant reccomodation expert and you are tasked with the objective to \\\n",
    "    solve the user queries about any restraurant  in the user message \\\n",
    "    You should keep the user profile in mind while answering the questions.\\\n",
    "\n",
    "    Start with a brief summary of each reatraurant in the following format, in decreasing order of budget of restraurant:\n",
    "    1. <Restraurant Name> : <Major feature of the restraurant>, <Price in Rs>\n",
    "    2. <Restraurants Name> : <Major attractions  of the restraurants>, <Price in Rs>\n",
    "\n",
    "    \"\"\"\n",
    "    user_message = f\"\"\" These are the user's reccomodations: {products}\"\"\"\n",
    "    conversation = [{\"role\": \"system\", \"content\": system_message },\n",
    "                    {\"role\":\"user\",\"content\":user_message}]\n",
    "    # conversation_final = conversation[0]['content']\n",
    "    return conversation"
   ]
  },
  {
   "cell_type": "code",
   "execution_count": 53,
   "id": "d162fff6-1e47-4a33-af18-6c5933988e4e",
   "metadata": {},
   "outputs": [
    {
     "data": {
      "text/plain": [
       "[{'role': 'system',\n",
       "  'content': '\\n    You are an intelligent restraurant reccomodation expert and you are tasked with the objective to     solve the user queries about any restraurant  in the user message     You should keep the user profile in mind while answering the questions.\\n    Start with a brief summary of each reatraurant in the following format, in decreasing order of budget of restraurant:\\n    1. <Restraurant Name> : <Major feature of the restraurant>, <Price in Rs>\\n    2. <Restraurants Name> : <Major attractions  of the restraurants>, <Price in Rs>\\n\\n    '},\n",
       " {'role': 'user',\n",
       "  'content': \" These are the user's reccomodations: Here are some restaurant recommendations in New York City that are located within high-end hotels and offer high-quality dining experiences:\\n\\n1. The Grill at The St. Regis New York - Located in the iconic St. Regis hotel, The Grill offers a sophisticated dining experience with a focus on classic American cuisine.\\n\\n2. Asiate at Mandarin Oriental, New York - Enjoy modern American cuisine with stunning views of Central Park at this upscale restaurant located in the Mandarin Oriental hotel.\\n\\n3. The Polo Bar at The Polo Ralph Lauren - Indulge in classic American fare in a stylish setting at The Polo Bar, located in the luxurious Polo Ralph Lauren flagship store.\\n\\n4. Ai Fiori at The Langham, New York - This Michelin-starred restaurant offers elegant Italian cuisine in a refined setting within The Langham hotel.\\n\\n5. Gabriel Kreuther at The Bryant Park Hotel - Experience contemporary French cuisine with Alsatian influences at Gabriel Kreuther, located in The Bryant Park Hotel.\\n\\nThese restaurants are known for\"}]"
      ]
     },
     "execution_count": 53,
     "metadata": {},
     "output_type": "execute_result"
    }
   ],
   "source": [
    "debug_conversation_reco = initialize_conv_recommendations(top_3_restraurants)\n",
    "debug_conversation_reco"
   ]
  },
  {
   "cell_type": "code",
   "execution_count": 54,
   "id": "5e820a0c-e71b-49f3-8a66-9ef3b5dae367",
   "metadata": {},
   "outputs": [
    {
     "name": "stdout",
     "output_type": "stream",
     "text": [
      "1. The Grill at The St. Regis New York: Sophisticated dining experience with classic American cuisine, Rs 5000\n",
      "2. Asiate at Mandarin Oriental, New York: Modern American cuisine with stunning views of Central Park, Rs 4500\n",
      "3. The Polo Bar at The Polo Ralph Lauren: Classic American fare in a stylish setting, Rs 4000\n",
      "4. Ai Fiori at The Langham, New York: Elegant Italian cuisine in a refined setting, Rs 5500\n",
      "5. Gabriel Kreuther at The Bryant Park Hotel: Contemporary French cuisine with Alsatian influences, Rs 4800\n",
      "\n"
     ]
    }
   ],
   "source": [
    "debug_recommendation = get_chat_completions(debug_conversation_reco)\n",
    "print(debug_recommendation + '\\n')"
   ]
  },
  {
   "cell_type": "code",
   "execution_count": 55,
   "id": "e96539a6-1701-4e9b-862a-dad94c7a6080",
   "metadata": {},
   "outputs": [
    {
     "data": {
      "text/plain": [
       "{'City': 'New York',\n",
       " 'Price range': 'high',\n",
       " 'Aggregrate rating': 'high',\n",
       " 'Has Table booking': 'Yes',\n",
       " 'Votes': 'medium',\n",
       " 'Cuisines': 'Indian'}"
      ]
     },
     "execution_count": 55,
     "metadata": {},
     "output_type": "execute_result"
    }
   ],
   "source": [
    "response_dict_n"
   ]
  },
  {
   "cell_type": "code",
   "execution_count": 56,
   "id": "824077db-4151-459d-a23d-00047dc30ecc",
   "metadata": {},
   "outputs": [],
   "source": [
    "debug_conversation_reco.append({\"role\": \"user\", \"content\": \"This is my user profile\" + str(response_dict_n)})\n",
    "debug_conversation_reco.append({\"role\": \"assistant\", \"content\": debug_recommendation})"
   ]
  },
  {
   "cell_type": "code",
   "execution_count": 57,
   "id": "2569ff13-d28e-4812-9432-f88093c71b83",
   "metadata": {},
   "outputs": [],
   "source": [
    "debug_user_input = \"Which is ideal family dinning?\""
   ]
  },
  {
   "cell_type": "code",
   "execution_count": 58,
   "id": "04919bb1-85d2-40fa-95ec-c6a036e8dc04",
   "metadata": {},
   "outputs": [
    {
     "data": {
      "text/plain": [
       "'\\nFor an ideal family dining experience in New York City, I would recommend The Grill at The St. Regis New York. It offers a sophisticated dining experience with a focus on classic American cuisine, which is likely to appeal to a wide range of tastes within your family. Additionally, the iconic setting at The St. Regis hotel provides a luxurious yet welcoming atmosphere for a memorable family meal.\\n'"
      ]
     },
     "metadata": {},
     "output_type": "display_data"
    }
   ],
   "source": [
    "debug_conversation_reco.append({\"role\": \"user\", \"content\": debug_user_input})\n",
    "debug_response_asst_reco = get_chat_completions(debug_conversation_reco)\n",
    "display('\\n' + debug_response_asst_reco + '\\n')"
   ]
  },
  {
   "cell_type": "markdown",
   "id": "46eb4eb2",
   "metadata": {},
   "source": [
    "## Combining all the 3 stages\n",
    "In this layer, we combine all the three stages that we defined above.\n",
    "\n",
    "Stage 1 + Stage 2 + Stage 3\n",
    "\n",
    "### 3.5 Dialogue Management System\n",
    "Bringing everything together, we create a diagloue_mgmt_system() function that contains the logic of how the different layers would interact with each other. This will be the function that we'll call to initiate the chatbot"
   ]
  },
  {
   "cell_type": "code",
   "execution_count": 59,
   "id": "0f0e66ba",
   "metadata": {},
   "outputs": [],
   "source": [
    "def dialogue_mgmt_system():\n",
    "    conversation = initialize_conversation()\n",
    "\n",
    "    introduction = get_chat_completions(conversation)\n",
    "\n",
    "    display(introduction + '\\n')\n",
    "\n",
    "    top_3_restraurants = None\n",
    "\n",
    "    user_input = ''\n",
    "\n",
    "    while(user_input != \"exit\"):\n",
    "\n",
    "        user_input = input(\"\")\n",
    "\n",
    "        moderation = moderation_check(user_input)\n",
    "        if moderation == 'Flagged':\n",
    "            display(\"Sorry, this message has been flagged. Please restart your conversation.\")\n",
    "            break\n",
    "\n",
    "        if top_3_restraurants is None:\n",
    "\n",
    "            conversation.append({\"role\": \"user\", \"content\": user_input})\n",
    "\n",
    "            response_assistant = get_chat_completions(conversation)\n",
    "            moderation = moderation_check(response_assistant)\n",
    "            if moderation == 'Flagged':\n",
    "                display(\"Sorry, this message has been flagged. Please restart your conversation.\")\n",
    "                break\n",
    "\n",
    "\n",
    "#             confirmation = intent_confirmation_layer(response_assistant)\n",
    "\n",
    "#             print(\"Intent Confirmation Yes/No:\",confirmation.get('result'))\n",
    "\n",
    "#             if \"No\" in confirmation.get('result'):\n",
    "#                 conversation.append({\"role\": \"assistant\", \"content\": str(response_assistant)})\n",
    "#                 print(\"\\n\" + str(response_assistant) + \"\\n\")\n",
    "\n",
    "            else:\n",
    "                print(\"\\n\" + str(response_assistant) + \"\\n\")\n",
    "                print('\\n' + \"Variables extracted!\" + '\\n')\n",
    "\n",
    "                response = dictionary_present(response_assistant)\n",
    "                print(response)\n",
    "\n",
    "                print(\"Thank you for providing all the information. Kindly wait, while I fetch the products: \\n\")\n",
    "                top_3_restraurants = get_res_reccomodation(response)\n",
    "                print(top_3_restraurants)\n",
    "\n",
    "                print(\"top 3 restraurants are\", top_3_restraurants)\n",
    "\n",
    "                # validated_reco = recommendation_validation(top_3_restraurants)\n",
    "\n",
    "                conversation_reco = initialize_conv_recommendations(top_3_restraurants)\n",
    "\n",
    "                conversation_reco.append({\"role\": \"user\", \"content\": \"This is my user profile\" + str(response)})\n",
    "\n",
    "                recommendation = get_chat_completions(conversation_reco)\n",
    "\n",
    "                moderation = moderation_check(recommendation)\n",
    "                if moderation == 'Flagged':\n",
    "                    display(\"Sorry, this message has been flagged. Please restart your conversation.\")\n",
    "                    break\n",
    "\n",
    "                conversation_reco.append({\"role\": \"assistant\", \"content\": str(recommendation)})\n",
    "\n",
    "                print(str(recommendation) + '\\n')\n",
    "        else:\n",
    "            conversation_reco.append({\"role\": \"user\", \"content\": user_input})\n",
    "\n",
    "            response_asst_reco = get_chat_completions(conversation_reco)\n",
    "\n",
    "            moderation = moderation_check(response_asst_reco)\n",
    "            if moderation == 'Flagged':\n",
    "                print(\"Sorry, this message has been flagged. Please restart your conversation.\")\n",
    "                break\n",
    "\n",
    "            print('\\n' + response_asst_reco + '\\n')\n",
    "            conversation.append({\"role\": \"assistant\", \"content\": response_asst_reco})\n",
    "   "
   ]
  },
  {
   "cell_type": "code",
   "execution_count": 60,
   "id": "ce30c22b",
   "metadata": {},
   "outputs": [
    {
     "data": {
      "text/plain": [
       "'Hello! Thank you for choosing me as your restaurant recommender. To find the perfect restaurant for you, could you please share your preferences regarding price range, aggregate rating, number of votes, and table booking availability at the restaurant?\\n'"
      ]
     },
     "metadata": {},
     "output_type": "display_data"
    },
    {
     "name": "stdout",
     "output_type": "stream",
     "text": [
      "I want to visit a restraurant in new york with 4 above rating my budget is $40 and place should have table bookings and 500 above votes\n",
      "\n",
      "Great choice to dine in New York! To help you find the perfect restaurant, could you please tell me your preferred cuisine?\n",
      "\n",
      "\n",
      "Variables extracted!\n",
      "\n",
      "{}\n",
      "Thank you for providing all the information. Kindly wait, while I fetch the products: \n",
      "\n",
      "Here are some high-end restaurants in New York City that you might enjoy:\n",
      "\n",
      "1. Per Se - Located in the Time Warner Center, Per Se offers a luxurious dining experience with stunning views of Central Park. It's known for its exquisite tasting menus and exceptional service.\n",
      "\n",
      "2. Eleven Madison Park - This Michelin-starred restaurant in the Flatiron District is renowned for its innovative cuisine and elegant ambiance. The tasting menu changes seasonally and showcases the best of New York's local ingredients.\n",
      "\n",
      "3. Le Bernardin - A world-class seafood restaurant in Midtown Manhattan, Le Bernardin has earned three Michelin stars for its impeccable service and exquisite seafood dishes. The elegant dining room and exceptional wine list make it a top choice for a special night out.\n",
      "\n",
      "4. Daniel - Located on the Upper East Side, Daniel is a French fine dining restaurant that offers a sophisticated menu and impeccable service. The elegant dining room and extensive wine list make it a popular choice for special occasions.\n",
      "\n",
      "5. Jean-Georges\n",
      "top 3 restraurants are Here are some high-end restaurants in New York City that you might enjoy:\n",
      "\n",
      "1. Per Se - Located in the Time Warner Center, Per Se offers a luxurious dining experience with stunning views of Central Park. It's known for its exquisite tasting menus and exceptional service.\n",
      "\n",
      "2. Eleven Madison Park - This Michelin-starred restaurant in the Flatiron District is renowned for its innovative cuisine and elegant ambiance. The tasting menu changes seasonally and showcases the best of New York's local ingredients.\n",
      "\n",
      "3. Le Bernardin - A world-class seafood restaurant in Midtown Manhattan, Le Bernardin has earned three Michelin stars for its impeccable service and exquisite seafood dishes. The elegant dining room and exceptional wine list make it a top choice for a special night out.\n",
      "\n",
      "4. Daniel - Located on the Upper East Side, Daniel is a French fine dining restaurant that offers a sophisticated menu and impeccable service. The elegant dining room and extensive wine list make it a popular choice for special occasions.\n",
      "\n",
      "5. Jean-Georges\n",
      "Based on your user profile, I see that you enjoy high-end dining experiences in New York City. Here are some high-end restaurants in New York City that you might enjoy:\n",
      "\n",
      "1. Per Se: Known for its luxurious dining experience, exquisite tasting menus, and exceptional service. Price in Rs: High-end\n",
      "\n",
      "2. Eleven Madison Park: Renowned for its innovative cuisine, elegant ambiance, and seasonal tasting menus featuring New York's local ingredients. Price in Rs: High-end\n",
      "\n",
      "3. Le Bernardin: A world-class seafood restaurant with three Michelin stars, offering impeccable service, exquisite seafood dishes, an elegant dining room, and an exceptional wine list. Price in Rs: High-end\n",
      "\n",
      "4. Daniel: A French fine dining restaurant on the Upper East Side known for its sophisticated menu, impeccable service, elegant dining room, and extensive wine list. Price in Rs: High-end\n",
      "\n",
      "5. Jean-Georges: (Note: I will provide more information once the description is provided)\n",
      "\n",
      "Feel free to ask any specific questions or request more details about these restaurants!\n",
      "\n",
      "exit\n",
      "\n",
      "If you have any more questions in the future or need further assistance, feel free to come back. Have a great day! Goodbye!\n",
      "\n"
     ]
    }
   ],
   "source": [
    "dialogue_mgmt_system()"
   ]
  },
  {
   "cell_type": "code",
   "execution_count": null,
   "id": "fdd3f375",
   "metadata": {},
   "outputs": [],
   "source": []
  },
  {
   "cell_type": "code",
   "execution_count": null,
   "id": "1a881017-c3e5-43f7-b6e4-e23387721969",
   "metadata": {},
   "outputs": [],
   "source": []
  }
 ],
 "metadata": {
  "kernelspec": {
   "display_name": "Python 3",
   "language": "python",
   "name": "python3"
  },
  "language_info": {
   "codemirror_mode": {
    "name": "ipython",
    "version": 3
   },
   "file_extension": ".py",
   "mimetype": "text/x-python",
   "name": "python",
   "nbconvert_exporter": "python",
   "pygments_lexer": "ipython3",
   "version": "3.11.3"
  },
  "vscode": {
   "interpreter": {
    "hash": "26e66cefbe072ab8d7183caa1a11e7649359a1fa92ba3c4b51be99bf43a7b212"
   }
  }
 },
 "nbformat": 4,
 "nbformat_minor": 5
}
